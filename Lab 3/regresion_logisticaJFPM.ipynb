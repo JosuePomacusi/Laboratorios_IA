{
  "cells": [
    {
      "cell_type": "code",
      "execution_count": 1,
      "metadata": {
        "id": "8KjAIfPny0m9"
      },
      "outputs": [],
      "source": [
        "# se utiliza para el manejo de rutas y directorios.\n",
        "import os\n",
        "\n",
        "# Calculo cientifico y vectorial para python\n",
        "import numpy as np\n",
        "\n",
        "# Librerias para graficar\n",
        "from matplotlib import pyplot\n",
        "\n",
        "# Modulo de optimización de scipy\n",
        "from scipy import optimize\n",
        "\n",
        "# le dice a matplotlib que incruste gráficos en el cuaderno\n",
        "%matplotlib inline"
      ]
    },
    {
      "cell_type": "code",
      "execution_count": 2,
      "metadata": {
        "id": "YPJW6-UJy4s2"
      },
      "outputs": [],
      "source": [
        "import pandas as pd\n",
        "from sklearn.preprocessing import LabelEncoder\n",
        "from datetime import datetime\n",
        "from sklearn.model_selection import train_test_split"
      ]
    },
    {
      "cell_type": "code",
      "execution_count": 3,
      "metadata": {
        "id": "Qflp7AR6y58c"
      },
      "outputs": [],
      "source": [
        "#Carga de dataset\n",
        "data = pd.read_csv('Bank_registries.csv', header=0, sep=',')"
      ]
    },
    {
      "cell_type": "code",
      "execution_count": 4,
      "metadata": {
        "colab": {
          "base_uri": "https://localhost:8080/"
        },
        "id": "rFeytR3UzcyK",
        "outputId": "946a398e-63e1-4da2-8033-4e9b40b08633"
      },
      "outputs": [
        {
          "output_type": "stream",
          "name": "stdout",
          "text": [
            "      RowNumber  CustomerId    Surname  CreditScore Geography  Gender  Age  \\\n",
            "0             1    15634602   Hargrave          619    France  Female   42   \n",
            "1             2    15647311       Hill          608     Spain  Female   41   \n",
            "2             3    15619304       Onio          502    France  Female   42   \n",
            "3             4    15701354       Boni          699    France  Female   39   \n",
            "4             5    15737888   Mitchell          850     Spain  Female   43   \n",
            "...         ...         ...        ...          ...       ...     ...  ...   \n",
            "9995       9996    15606229   Obijiaku          771    France    Male   39   \n",
            "9996       9997    15569892  Johnstone          516    France    Male   35   \n",
            "9997       9998    15584532        Liu          709    France  Female   36   \n",
            "9998       9999    15682355  Sabbatini          772   Germany    Male   42   \n",
            "9999      10000    15628319     Walker          792    France  Female   28   \n",
            "\n",
            "      Tenure    Balance  NumOfProducts  HasCrCard  IsActiveMember  \\\n",
            "0          2       0.00              1          1               1   \n",
            "1          1   83807.86              1          0               1   \n",
            "2          8  159660.80              3          1               0   \n",
            "3          1       0.00              2          0               0   \n",
            "4          2  125510.82              1          1               1   \n",
            "...      ...        ...            ...        ...             ...   \n",
            "9995       5       0.00              2          1               0   \n",
            "9996      10   57369.61              1          1               1   \n",
            "9997       7       0.00              1          0               1   \n",
            "9998       3   75075.31              2          1               0   \n",
            "9999       4  130142.79              1          1               0   \n",
            "\n",
            "      EstimatedSalary  Exited  \n",
            "0           101348.88       1  \n",
            "1           112542.58       0  \n",
            "2           113931.57       1  \n",
            "3            93826.63       0  \n",
            "4            79084.10       0  \n",
            "...               ...     ...  \n",
            "9995         96270.64       0  \n",
            "9996        101699.77       0  \n",
            "9997         42085.58       1  \n",
            "9998         92888.52       1  \n",
            "9999         38190.78       0  \n",
            "\n",
            "[10000 rows x 14 columns]\n"
          ]
        }
      ],
      "source": [
        "#mostramos el dataset\n",
        "print(data)"
      ]
    },
    {
      "cell_type": "code",
      "execution_count": 5,
      "metadata": {
        "colab": {
          "base_uri": "https://localhost:8080/"
        },
        "id": "N_rDX9MNzdvU",
        "outputId": "d86a56c1-3684-46c0-e290-cbc61dfdc561"
      },
      "outputs": [
        {
          "output_type": "stream",
          "name": "stdout",
          "text": [
            "<class 'pandas.core.frame.DataFrame'>\n",
            "RangeIndex: 10000 entries, 0 to 9999\n",
            "Data columns (total 14 columns):\n",
            " #   Column           Non-Null Count  Dtype  \n",
            "---  ------           --------------  -----  \n",
            " 0   RowNumber        10000 non-null  int64  \n",
            " 1   CustomerId       10000 non-null  int64  \n",
            " 2   Surname          10000 non-null  object \n",
            " 3   CreditScore      10000 non-null  int64  \n",
            " 4   Geography        10000 non-null  object \n",
            " 5   Gender           10000 non-null  object \n",
            " 6   Age              10000 non-null  int64  \n",
            " 7   Tenure           10000 non-null  int64  \n",
            " 8   Balance          10000 non-null  float64\n",
            " 9   NumOfProducts    10000 non-null  int64  \n",
            " 10  HasCrCard        10000 non-null  int64  \n",
            " 11  IsActiveMember   10000 non-null  int64  \n",
            " 12  EstimatedSalary  10000 non-null  float64\n",
            " 13  Exited           10000 non-null  int64  \n",
            "dtypes: float64(2), int64(9), object(3)\n",
            "memory usage: 1.1+ MB\n"
          ]
        }
      ],
      "source": [
        "# observamos si nos faltan datos\n",
        "data.info()"
      ]
    },
    {
      "cell_type": "code",
      "execution_count": 6,
      "metadata": {
        "colab": {
          "base_uri": "https://localhost:8080/"
        },
        "id": "1rnE4nftzifU",
        "outputId": "b6b94439-3519-499c-9cbd-d421a319031f"
      },
      "outputs": [
        {
          "output_type": "stream",
          "name": "stdout",
          "text": [
            "      CreditScore Geography  Gender  Age  Tenure    Balance  NumOfProducts  \\\n",
            "0             619    France  Female   42       2       0.00              1   \n",
            "1             608     Spain  Female   41       1   83807.86              1   \n",
            "2             502    France  Female   42       8  159660.80              3   \n",
            "3             699    France  Female   39       1       0.00              2   \n",
            "4             850     Spain  Female   43       2  125510.82              1   \n",
            "...           ...       ...     ...  ...     ...        ...            ...   \n",
            "9995          771    France    Male   39       5       0.00              2   \n",
            "9996          516    France    Male   35      10   57369.61              1   \n",
            "9997          709    France  Female   36       7       0.00              1   \n",
            "9998          772   Germany    Male   42       3   75075.31              2   \n",
            "9999          792    France  Female   28       4  130142.79              1   \n",
            "\n",
            "      HasCrCard  IsActiveMember  EstimatedSalary  Exited  \n",
            "0             1               1        101348.88       1  \n",
            "1             0               1        112542.58       0  \n",
            "2             1               0        113931.57       1  \n",
            "3             0               0         93826.63       0  \n",
            "4             1               1         79084.10       0  \n",
            "...         ...             ...              ...     ...  \n",
            "9995          1               0         96270.64       0  \n",
            "9996          1               1        101699.77       0  \n",
            "9997          0               1         42085.58       1  \n",
            "9998          1               0         92888.52       1  \n",
            "9999          1               0         38190.78       0  \n",
            "\n",
            "[10000 rows x 11 columns]\n"
          ]
        }
      ],
      "source": [
        "# Eliminar columnas irrelevantes para la regresion\n",
        "columna_eliminar = ['RowNumber', 'CustomerId', 'Surname']\n",
        "data.drop(columna_eliminar, axis=1, inplace=True)\n",
        "\n",
        "# Muestra el DataFrame resultante\n",
        "print(data)"
      ]
    },
    {
      "cell_type": "code",
      "execution_count": 7,
      "metadata": {
        "colab": {
          "base_uri": "https://localhost:8080/"
        },
        "id": "JF-hiBn3zneC",
        "outputId": "ba28850b-5809-4e2f-b22f-b74b285e1956"
      },
      "outputs": [
        {
          "output_type": "stream",
          "name": "stdout",
          "text": [
            "<class 'pandas.core.frame.DataFrame'>\n",
            "RangeIndex: 10000 entries, 0 to 9999\n",
            "Data columns (total 11 columns):\n",
            " #   Column           Non-Null Count  Dtype  \n",
            "---  ------           --------------  -----  \n",
            " 0   CreditScore      10000 non-null  int64  \n",
            " 1   Geography        10000 non-null  object \n",
            " 2   Gender           10000 non-null  object \n",
            " 3   Age              10000 non-null  int64  \n",
            " 4   Tenure           10000 non-null  int64  \n",
            " 5   Balance          10000 non-null  float64\n",
            " 6   NumOfProducts    10000 non-null  int64  \n",
            " 7   HasCrCard        10000 non-null  int64  \n",
            " 8   IsActiveMember   10000 non-null  int64  \n",
            " 9   EstimatedSalary  10000 non-null  float64\n",
            " 10  Exited           10000 non-null  int64  \n",
            "dtypes: float64(2), int64(7), object(2)\n",
            "memory usage: 859.5+ KB\n"
          ]
        }
      ],
      "source": [
        "data.info()"
      ]
    },
    {
      "cell_type": "code",
      "execution_count": 8,
      "metadata": {
        "id": "2EhQRXNCOjr3"
      },
      "outputs": [],
      "source": [
        "columnas_categoricas = data.select_dtypes(include=['object']).columns"
      ]
    },
    {
      "cell_type": "code",
      "execution_count": 9,
      "metadata": {
        "id": "_1CBI0gcOjr4"
      },
      "outputs": [],
      "source": [
        "#procesamiento de frases\n",
        "for columna in columnas_categoricas:\n",
        "  le = LabelEncoder()\n",
        "  data[columna] = le.fit_transform(data[columna])"
      ]
    },
    {
      "cell_type": "code",
      "execution_count": 10,
      "metadata": {
        "id": "ZCYXfP97zsJo"
      },
      "outputs": [],
      "source": [
        "X = data.iloc[:, :10]\n",
        "y = data.iloc[:, 10]\n",
        "m = y.size"
      ]
    },
    {
      "cell_type": "code",
      "execution_count": 11,
      "metadata": {
        "colab": {
          "base_uri": "https://localhost:8080/"
        },
        "id": "MFPbLSHBzwno",
        "outputId": "f8875815-9631-499d-a367-13fce60d1dd3"
      },
      "outputs": [
        {
          "output_type": "stream",
          "name": "stdout",
          "text": [
            "      CreditScore  Geography  Gender  Age  Tenure    Balance  NumOfProducts  \\\n",
            "0             619          0       0   42       2       0.00              1   \n",
            "1             608          2       0   41       1   83807.86              1   \n",
            "2             502          0       0   42       8  159660.80              3   \n",
            "3             699          0       0   39       1       0.00              2   \n",
            "4             850          2       0   43       2  125510.82              1   \n",
            "...           ...        ...     ...  ...     ...        ...            ...   \n",
            "9995          771          0       1   39       5       0.00              2   \n",
            "9996          516          0       1   35      10   57369.61              1   \n",
            "9997          709          0       0   36       7       0.00              1   \n",
            "9998          772          1       1   42       3   75075.31              2   \n",
            "9999          792          0       0   28       4  130142.79              1   \n",
            "\n",
            "      HasCrCard  IsActiveMember  EstimatedSalary  \n",
            "0             1               1        101348.88  \n",
            "1             0               1        112542.58  \n",
            "2             1               0        113931.57  \n",
            "3             0               0         93826.63  \n",
            "4             1               1         79084.10  \n",
            "...         ...             ...              ...  \n",
            "9995          1               0         96270.64  \n",
            "9996          1               1        101699.77  \n",
            "9997          0               1         42085.58  \n",
            "9998          1               0         92888.52  \n",
            "9999          1               0         38190.78  \n",
            "\n",
            "[10000 rows x 10 columns]\n",
            "*************************\n",
            "0       1\n",
            "1       0\n",
            "2       1\n",
            "3       0\n",
            "4       0\n",
            "       ..\n",
            "9995    0\n",
            "9996    0\n",
            "9997    1\n",
            "9998    1\n",
            "9999    0\n",
            "Name: Exited, Length: 10000, dtype: int64\n"
          ]
        }
      ],
      "source": [
        "print(X)\n",
        "print('*'*25)\n",
        "print(y)"
      ]
    },
    {
      "cell_type": "code",
      "execution_count": 12,
      "metadata": {
        "id": "02MRgs3YOjr5"
      },
      "outputs": [],
      "source": [
        "# Division de dataset en entrenamiento y prueba con el numero 42 para que no se cambien los valores\n",
        "train_data, test_data = train_test_split(data, test_size=0.2, random_state=42)"
      ]
    },
    {
      "cell_type": "code",
      "execution_count": 13,
      "metadata": {
        "colab": {
          "base_uri": "https://localhost:8080/"
        },
        "id": "-s9XJT2GOjr5",
        "outputId": "4dc930c7-cf74-41ae-d451-db13c06b3fd3"
      },
      "outputs": [
        {
          "output_type": "stream",
          "name": "stdout",
          "text": [
            "Datos entrenamiento> \n",
            "      CreditScore  Geography  Gender  Age  Tenure    Balance  NumOfProducts  \\\n",
            "9254          686          0       1   32       6       0.00              2   \n",
            "1561          632          1       1   42       4  119624.60              2   \n",
            "1670          559          2       1   24       3  114739.92              1   \n",
            "6087          561          0       0   27       9  135637.00              1   \n",
            "6669          517          0       1   56       9  142147.32              1   \n",
            "...           ...        ...     ...  ...     ...        ...            ...   \n",
            "5734          768          0       1   54       8   69712.74              1   \n",
            "5191          682          0       0   58       1       0.00              1   \n",
            "5390          735          0       0   38       1       0.00              3   \n",
            "860           667          0       1   43       8  190227.46              1   \n",
            "7270          697          1       1   51       1  147910.30              1   \n",
            "\n",
            "      HasCrCard  IsActiveMember  EstimatedSalary  Exited  \n",
            "9254          1               1        179093.26       0  \n",
            "1561          1               1        195978.86       0  \n",
            "1670          1               0         85891.02       1  \n",
            "6087          1               0        153080.40       1  \n",
            "6669          0               0         39488.04       1  \n",
            "...         ...             ...              ...     ...  \n",
            "5734          1               1         69381.05       0  \n",
            "5191          1               1           706.50       0  \n",
            "5390          0               0         92220.12       1  \n",
            "860           1               0         97508.04       1  \n",
            "7270          1               1         53581.14       0  \n",
            "\n",
            "[8000 rows x 11 columns]\n",
            "\n",
            " Datos de prueba> \n",
            "      CreditScore  Geography  Gender  Age  Tenure    Balance  NumOfProducts  \\\n",
            "6252          596          1       1   32       3   96709.07              2   \n",
            "4684          623          0       1   43       1       0.00              2   \n",
            "1731          601          2       0   44       4       0.00              2   \n",
            "4742          506          1       1   59       8  119152.10              2   \n",
            "4521          560          2       0   27       7  124995.98              1   \n",
            "...           ...        ...     ...  ...     ...        ...            ...   \n",
            "6412          602          1       0   53       5   98268.84              1   \n",
            "8285          609          0       1   25      10       0.00              1   \n",
            "7853          730          0       0   47       7       0.00              1   \n",
            "1095          692          0       1   29       4       0.00              1   \n",
            "6929          628          1       1   39       1  115341.19              1   \n",
            "\n",
            "      HasCrCard  IsActiveMember  EstimatedSalary  Exited  \n",
            "6252          0               0         41788.37       0  \n",
            "4684          1               1        146379.30       0  \n",
            "1731          1               0         58561.31       0  \n",
            "4742          1               1        170679.74       0  \n",
            "4521          1               1        114669.79       0  \n",
            "...         ...             ...              ...     ...  \n",
            "6412          0               1         45038.29       1  \n",
            "8285          0               1        109895.16       0  \n",
            "7853          1               0         33373.26       1  \n",
            "1095          1               0         76755.99       1  \n",
            "6929          1               1        107674.30       1  \n",
            "\n",
            "[2000 rows x 11 columns]\n"
          ]
        }
      ],
      "source": [
        "print(\"Datos entrenamiento> \")\n",
        "print(train_data)\n",
        "print(\"\\n Datos de prueba> \")\n",
        "print(test_data)"
      ]
    },
    {
      "cell_type": "code",
      "execution_count": 14,
      "metadata": {
        "id": "4KT47ZnLOjr6"
      },
      "outputs": [],
      "source": [
        "#guardamos los datos de la parte de prueba en un nuevo dataset\n",
        "train_data.to_csv(\"train.csv\", index=False)"
      ]
    },
    {
      "cell_type": "code",
      "execution_count": 15,
      "metadata": {
        "id": "kWAWZjd9Ojr6"
      },
      "outputs": [],
      "source": [
        "#guardamos los datos de la parte de testeo en un nuevo dataset\n",
        "test_data.to_csv(\"test.csv\", index=False)"
      ]
    },
    {
      "cell_type": "code",
      "execution_count": 16,
      "metadata": {
        "id": "4nc4ZTDxOjr6"
      },
      "outputs": [],
      "source": [
        "#Carga de dataset\n",
        "data = pd.read_csv('train.csv')"
      ]
    },
    {
      "cell_type": "code",
      "execution_count": 17,
      "metadata": {
        "id": "p2r3LDLxOjr6"
      },
      "outputs": [],
      "source": [
        "X = data.iloc[:, :10]\n",
        "y = data.iloc[:, 10]\n",
        "m = y.size"
      ]
    },
    {
      "cell_type": "code",
      "execution_count": 18,
      "metadata": {
        "id": "gd0u9hINzzKI"
      },
      "outputs": [],
      "source": [
        "def  featureNormalize(X):\n",
        "    X_norm = X.copy()\n",
        "    mu = np.zeros(X.shape[1])\n",
        "    sigma = np.zeros(X.shape[1])\n",
        "\n",
        "    mu = np.mean(X, axis = 0)\n",
        "    sigma = np.std(X, axis = 0)\n",
        "    X_norm = (X - mu) / sigma\n",
        "\n",
        "    return X_norm, mu, sigma"
      ]
    },
    {
      "cell_type": "code",
      "execution_count": 19,
      "metadata": {
        "colab": {
          "base_uri": "https://localhost:8080/"
        },
        "id": "maQe64YWz0SV",
        "outputId": "47a520ea-040a-4d6c-eb2a-ffb33554fe8c"
      },
      "outputs": [
        {
          "output_type": "stream",
          "name": "stdout",
          "text": [
            "      CreditScore  Geography  Gender  Age  Tenure    Balance  NumOfProducts  \\\n",
            "0             686          0       1   32       6       0.00              2   \n",
            "1             632          1       1   42       4  119624.60              2   \n",
            "2             559          2       1   24       3  114739.92              1   \n",
            "3             561          0       0   27       9  135637.00              1   \n",
            "4             517          0       1   56       9  142147.32              1   \n",
            "...           ...        ...     ...  ...     ...        ...            ...   \n",
            "7995          768          0       1   54       8   69712.74              1   \n",
            "7996          682          0       0   58       1       0.00              1   \n",
            "7997          735          0       0   38       1       0.00              3   \n",
            "7998          667          0       1   43       8  190227.46              1   \n",
            "7999          697          1       1   51       1  147910.30              1   \n",
            "\n",
            "      HasCrCard  IsActiveMember  EstimatedSalary  \n",
            "0             1               1        179093.26  \n",
            "1             1               1        195978.86  \n",
            "2             1               0         85891.02  \n",
            "3             1               0        153080.40  \n",
            "4             0               0         39488.04  \n",
            "...         ...             ...              ...  \n",
            "7995          1               1         69381.05  \n",
            "7996          1               1           706.50  \n",
            "7997          0               0         92220.12  \n",
            "7998          1               0         97508.04  \n",
            "7999          1               1         53581.14  \n",
            "\n",
            "[8000 rows x 10 columns]\n",
            "Media calculada: CreditScore           651.647625\n",
            "Geography               0.750125\n",
            "Gender                  0.545250\n",
            "Age                    38.897750\n",
            "Tenure                  5.003875\n",
            "Balance             76102.139645\n",
            "NumOfProducts           1.531375\n",
            "HasCrCard               0.703500\n",
            "IsActiveMember          0.512750\n",
            "EstimatedSalary    100431.289764\n",
            "dtype: float64\n",
            "Desviación estandar calculada: CreditScore           96.360177\n",
            "Geography              0.828364\n",
            "Gender                 0.497948\n",
            "Age                   10.518296\n",
            "Tenure                 2.881642\n",
            "Balance            62457.101822\n",
            "NumOfProducts          0.579669\n",
            "HasCrCard              0.456714\n",
            "IsActiveMember         0.499837\n",
            "EstimatedSalary    57515.325387\n",
            "dtype: float64\n",
            "      CreditScore  Geography    Gender       Age    Tenure   Balance  \\\n",
            "0        0.356500  -0.905550  0.913248 -0.655786  0.345680 -1.218471   \n",
            "1       -0.203898   0.301649  0.913248  0.294938 -0.348369  0.696838   \n",
            "2       -0.961472   1.508847  0.913248 -1.416365 -0.695393  0.618629   \n",
            "3       -0.940717  -0.905550 -1.094993 -1.131148  1.386753  0.953212   \n",
            "4       -1.397337  -0.905550  0.913248  1.625953  1.386753  1.057449   \n",
            "...           ...        ...       ...       ...       ...       ...   \n",
            "7995     1.207474  -0.905550  0.913248  1.435808  1.039728 -0.102301   \n",
            "7996     0.314989  -0.905550 -1.094993  1.816097 -1.389442 -1.218471   \n",
            "7997     0.865009  -0.905550 -1.094993 -0.085351 -1.389442 -1.218471   \n",
            "7998     0.159323  -0.905550  0.913248  0.390011  1.039728  1.827259   \n",
            "7999     0.470655   0.301649  0.913248  1.150590 -1.389442  1.149720   \n",
            "\n",
            "      NumOfProducts  HasCrCard  IsActiveMember  EstimatedSalary  \n",
            "0          0.808436   0.649203        0.974817         1.367670  \n",
            "1          0.808436   0.649203        0.974817         1.661254  \n",
            "2         -0.916688   0.649203       -1.025834        -0.252807  \n",
            "3         -0.916688   0.649203       -1.025834         0.915393  \n",
            "4         -0.916688  -1.540351       -1.025834        -1.059600  \n",
            "...             ...        ...             ...              ...  \n",
            "7995      -0.916688   0.649203        0.974817        -0.539860  \n",
            "7996      -0.916688   0.649203        0.974817        -1.733882  \n",
            "7997       2.533560  -1.540351       -1.025834        -0.142765  \n",
            "7998      -0.916688   0.649203       -1.025834        -0.050826  \n",
            "7999      -0.916688   0.649203        0.974817        -0.814568  \n",
            "\n",
            "[8000 rows x 10 columns]\n"
          ]
        }
      ],
      "source": [
        "# llama featureNormalize con los datos cargados\n",
        "X_norm, mu, sigma = featureNormalize(X)\n",
        "\n",
        "print(X)\n",
        "print('Media calculada:', mu)\n",
        "print('Desviación estandar calculada:', sigma)\n",
        "print(X_norm)"
      ]
    },
    {
      "cell_type": "code",
      "execution_count": 20,
      "metadata": {
        "id": "-PG5rWoyR2zN"
      },
      "outputs": [],
      "source": [
        "def sigmoid(z):\n",
        "    # Calcula la sigmoide de una entrada z\n",
        "    # convierte la intrada a un arreglo numpy\n",
        "    z = np.array(z)\n",
        "\n",
        "    g = np.zeros(z.shape)\n",
        "\n",
        "    g = 1 / (1 + np.exp(-z))\n",
        "\n",
        "    return g"
      ]
    },
    {
      "cell_type": "code",
      "execution_count": 21,
      "metadata": {
        "id": "ahiiYY_uz5J0"
      },
      "outputs": [],
      "source": [
        "# Configurar la matriz adecuadamente, y agregar una columna de unos que corresponde al termino de intercepción.\n",
        "m, n = X.shape\n",
        "# Agraga el termino de intercepción a A\n",
        "X = np.concatenate([np.ones((m, 1)), X_norm], axis=1)"
      ]
    },
    {
      "cell_type": "code",
      "execution_count": 22,
      "metadata": {
        "id": "0Je8OHW4z6eY"
      },
      "outputs": [],
      "source": [
        "def calcularCosto(theta, X, y):\n",
        "    # Inicializar algunos valores utiles\n",
        "    m = y.size  # numero de ejemplos de entrenamiento\n",
        "    #epsilon = 1e-8\n",
        "\n",
        "    J = 0\n",
        "    h = sigmoid(X.dot(theta.T))\n",
        "    J = (1 / m) * np.sum(-y.dot(np.log(h)) - (1 - y).dot(np.log(1 - h)))\n",
        "\n",
        "    return J"
      ]
    },
    {
      "cell_type": "code",
      "execution_count": 23,
      "metadata": {
        "id": "1BuahUQIz710"
      },
      "outputs": [],
      "source": [
        "def descensoGradiente(theta, X, y, alpha, num_iters):\n",
        "    # Inicializa algunos valores\n",
        "    m = y.shape[0] # numero de ejemplos de entrenamiento\n",
        "\n",
        "    # realiza una copia de theta, el cual será acutalizada por el descenso por el gradiente\n",
        "    theta = theta.copy()\n",
        "    J_history = []\n",
        "\n",
        "    for i in range(num_iters):\n",
        "        h = sigmoid(X.dot(theta.T))\n",
        "        theta = theta - (alpha / m) * (h - y).dot(X)\n",
        "\n",
        "        J_history.append(calcularCosto(theta, X, y))\n",
        "    return theta, J_history"
      ]
    },
    {
      "cell_type": "code",
      "execution_count": 24,
      "metadata": {
        "colab": {
          "base_uri": "https://localhost:8080/"
        },
        "id": "TxI3wPZ3Ojr-",
        "outputId": "08b64138-9fad-42d6-852c-db7cc22e554e"
      },
      "outputs": [
        {
          "output_type": "stream",
          "name": "stdout",
          "text": [
            "      CreditScore  Geography  Gender  Age  Tenure    Balance  NumOfProducts  \\\n",
            "0             596          1       1   32       3   96709.07              2   \n",
            "1             623          0       1   43       1       0.00              2   \n",
            "2             601          2       0   44       4       0.00              2   \n",
            "3             506          1       1   59       8  119152.10              2   \n",
            "4             560          2       0   27       7  124995.98              1   \n",
            "...           ...        ...     ...  ...     ...        ...            ...   \n",
            "1995          602          1       0   53       5   98268.84              1   \n",
            "1996          609          0       1   25      10       0.00              1   \n",
            "1997          730          0       0   47       7       0.00              1   \n",
            "1998          692          0       1   29       4       0.00              1   \n",
            "1999          628          1       1   39       1  115341.19              1   \n",
            "\n",
            "      HasCrCard  IsActiveMember  EstimatedSalary  Exited  \n",
            "0             0               0         41788.37       0  \n",
            "1             1               1        146379.30       0  \n",
            "2             1               0         58561.31       0  \n",
            "3             1               1        170679.74       0  \n",
            "4             1               1        114669.79       0  \n",
            "...         ...             ...              ...     ...  \n",
            "1995          0               1         45038.29       1  \n",
            "1996          0               1        109895.16       0  \n",
            "1997          1               0         33373.26       1  \n",
            "1998          1               0         76755.99       1  \n",
            "1999          1               1        107674.30       1  \n",
            "\n",
            "[2000 rows x 11 columns]\n"
          ]
        }
      ],
      "source": [
        "#Carga de dataset\n",
        "data = pd.read_csv('test.csv')\n",
        "print(data)"
      ]
    },
    {
      "cell_type": "code",
      "execution_count": 26,
      "metadata": {
        "colab": {
          "base_uri": "https://localhost:8080/",
          "height": 501
        },
        "id": "GxwVw6ySz9GG",
        "outputId": "6c446bcb-b2ab-42d2-c994-419fa4977cb4"
      },
      "outputs": [
        {
          "output_type": "stream",
          "name": "stdout",
          "text": [
            "theta calculado por el descenso por el gradiente: [-0.86764015 -0.03294239  0.04307095 -0.12551324  0.3472889  -0.01565112\n",
            "  0.13312765 -0.03862278 -0.00445222 -0.20437914  0.01138834]\n",
            "El resaultado entre falso o verdadero es (usando el descenso por el gradiente):1\n"
          ]
        },
        {
          "output_type": "display_data",
          "data": {
            "text/plain": [
              "<Figure size 640x480 with 1 Axes>"
            ],
            "image/png": "[encoded data removed]"
          },
          "metadata": {}
        }
      ],
      "source": [
        "# Elegir algun valor para alpha (probar varias alternativas)\n",
        "alpha = 0.001\n",
        "num_iters = 5000\n",
        "\n",
        "# inicializa theta y ejecuta el descenso por el gradiente\n",
        "theta = np.zeros(11)\n",
        "theta, J_history = descensoGradiente(theta, X, y, alpha, num_iters)\n",
        "\n",
        "# Grafica la convergencia del costo\n",
        "pyplot.plot(np.arange(len(J_history)), J_history, lw=2)\n",
        "pyplot.xlabel('Numero de iteraciones')\n",
        "pyplot.ylabel('Costo J')\n",
        "\n",
        "# Muestra los resultados del descenso por el gradiente\n",
        "print('theta calculado por el descenso por el gradiente: {:s}'.format(str(theta)))\n",
        "\n",
        "# verificar si ingresa o no a la universidad\n",
        "X_array = [1, 506, 1, 1, 59, 2, 8, 2, 1, 1, 170679.74]\n",
        "aprueba = sigmoid(np.dot(X_array, theta))   # Se debe cambiar esto\n",
        "\n",
        "print('El resaultado entre falso o verdadero es (usando el descenso por el gradiente):{:.0f}'.format(aprueba))"
      ]
    }
  ],
  "metadata": {
    "colab": {
      "provenance": []
    },
    "kernelspec": {
      "display_name": "Python 3",
      "name": "python3"
    },
    "language_info": {
      "codemirror_mode": {
        "name": "ipython",
        "version": 3
      },
      "file_extension": ".py",
      "mimetype": "text/x-python",
      "name": "python",
      "nbconvert_exporter": "python",
      "pygments_lexer": "ipython3",
      "version": "3.9.7"
    }
  },
  "nbformat": 4,
  "nbformat_minor": 0
}