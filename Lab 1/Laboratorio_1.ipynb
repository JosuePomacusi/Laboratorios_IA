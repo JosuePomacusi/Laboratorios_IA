{
  "nbformat": 4,
  "nbformat_minor": 0,
  "metadata": {
    "colab": {
      "provenance": []
    },
    "kernelspec": {
      "name": "python3",
      "display_name": "Python 3"
    },
    "language_info": {
      "name": "python"
    }
  },
  "cells": [
    {
      "cell_type": "code",
      "source": [
        "# utilizado para manejos de directorios y rutas\n",
        "import os\n",
        "\n",
        "# Computacion vectorial y cientifica para python\n",
        "import numpy as np\n",
        "\n",
        "# Librerias para graficación (trazado de gráficos)\n",
        "from matplotlib import pyplot\n",
        "from mpl_toolkits.mplot3d import Axes3D  # Necesario para graficar superficies 3D\n",
        "\n",
        "# llama a matplotlib a embeber graficas dentro de los cuadernillos\n",
        "# grafica dentro del cuardernillo\n",
        "%matplotlib inline"
      ],
      "metadata": {
        "id": "LYfTv4A3pnmx"
      },
      "execution_count": 1,
      "outputs": []
    },
    {
      "cell_type": "code",
      "source": [
        "import pandas as pd\n",
        "# es para cambiar los datos categorizados a numericos\n",
        "from sklearn.preprocessing import LabelEncoder\n",
        "#from datetime import datetime"
      ],
      "metadata": {
        "id": "Y7mdxQjrqbp7"
      },
      "execution_count": 2,
      "outputs": []
    },
    {
      "cell_type": "code",
      "source": [
        "#Carga de dataset\n",
        "data = pd.read_csv('/content/ford.csv')"
      ],
      "metadata": {
        "id": "Dv7AvqPoq3RY"
      },
      "execution_count": 3,
      "outputs": []
    },
    {
      "cell_type": "code",
      "source": [
        "print(data)"
      ],
      "metadata": {
        "colab": {
          "base_uri": "https://localhost:8080/"
        },
        "id": "OAeHr1-qraPv",
        "outputId": "6349610f-1960-4a96-b021-2b4982c7c44b"
      },
      "execution_count": 4,
      "outputs": [
        {
          "output_type": "stream",
          "name": "stdout",
          "text": [
            "         model  year  price transmission  mileage fuelType  tax   mpg  \\\n",
            "0       Fiesta  2017  12000    Automatic    15944   Petrol  150  57.7   \n",
            "1        Focus  2018  14000       Manual     9083   Petrol  150  57.7   \n",
            "2        Focus  2017  13000       Manual    12456   Petrol  150  57.7   \n",
            "3       Fiesta  2019  17500       Manual    10460   Petrol  145  40.3   \n",
            "4       Fiesta  2019  16500    Automatic     1482   Petrol  145  48.7   \n",
            "...        ...   ...    ...          ...      ...      ...  ...   ...   \n",
            "17961    B-MAX  2017   8999       Manual    16700   Petrol  150  47.1   \n",
            "17962    B-MAX  2014   7499       Manual    40700   Petrol   30  57.7   \n",
            "17963    Focus  2015   9999       Manual     7010   Diesel   20  67.3   \n",
            "17964       KA  2018   8299       Manual     5007   Petrol  145  57.7   \n",
            "17965    Focus  2015   8299       Manual     5007   Petrol   22  57.7   \n",
            "\n",
            "       engineSize  \n",
            "0             1.0  \n",
            "1             1.0  \n",
            "2             1.0  \n",
            "3             1.5  \n",
            "4             1.0  \n",
            "...           ...  \n",
            "17961         1.4  \n",
            "17962         1.0  \n",
            "17963         1.6  \n",
            "17964         1.2  \n",
            "17965         1.0  \n",
            "\n",
            "[17966 rows x 9 columns]\n"
          ]
        }
      ]
    },
    {
      "cell_type": "code",
      "source": [
        "data.info()"
      ],
      "metadata": {
        "colab": {
          "base_uri": "https://localhost:8080/"
        },
        "id": "kOtbK3EgrwTM",
        "outputId": "049e3a98-ea76-415a-f04a-9111b0bf8dc2"
      },
      "execution_count": 5,
      "outputs": [
        {
          "output_type": "stream",
          "name": "stdout",
          "text": [
            "<class 'pandas.core.frame.DataFrame'>\n",
            "RangeIndex: 17966 entries, 0 to 17965\n",
            "Data columns (total 9 columns):\n",
            " #   Column        Non-Null Count  Dtype  \n",
            "---  ------        --------------  -----  \n",
            " 0   model         17966 non-null  object \n",
            " 1   year          17966 non-null  int64  \n",
            " 2   price         17966 non-null  int64  \n",
            " 3   transmission  17966 non-null  object \n",
            " 4   mileage       17966 non-null  int64  \n",
            " 5   fuelType      17966 non-null  object \n",
            " 6   tax           17966 non-null  int64  \n",
            " 7   mpg           17966 non-null  float64\n",
            " 8   engineSize    17966 non-null  float64\n",
            "dtypes: float64(2), int64(4), object(3)\n",
            "memory usage: 1.2+ MB\n"
          ]
        }
      ]
    },
    {
      "cell_type": "code",
      "source": [
        "#variables categoricas\n",
        "columnas_categoricas = data.select_dtypes(include=['object']).columns"
      ],
      "metadata": {
        "id": "S-Bh-zDCtplP"
      },
      "execution_count": 6,
      "outputs": []
    },
    {
      "cell_type": "code",
      "source": [
        "print(columnas_categoricas)"
      ],
      "metadata": {
        "colab": {
          "base_uri": "https://localhost:8080/"
        },
        "id": "CW7Z91u3uBdK",
        "outputId": "ebfb5324-83f8-4ceb-fc88-c42123db5bd7"
      },
      "execution_count": 7,
      "outputs": [
        {
          "output_type": "stream",
          "name": "stdout",
          "text": [
            "Index(['model', 'transmission', 'fuelType'], dtype='object')\n"
          ]
        }
      ]
    },
    {
      "cell_type": "code",
      "source": [
        "#Procesamiento de frases o palabras\n",
        "for columna in columnas_categoricas:\n",
        "  #hacemos una nueva instancia\n",
        "  le = LabelEncoder()\n",
        "  data[columna] = le.fit_transform(data[columna])"
      ],
      "metadata": {
        "id": "jm7qIJUft7vp"
      },
      "execution_count": 8,
      "outputs": []
    },
    {
      "cell_type": "code",
      "source": [
        "print(data)"
      ],
      "metadata": {
        "colab": {
          "base_uri": "https://localhost:8080/"
        },
        "id": "CNDYH1i3udu4",
        "outputId": "74cc1230-a5d1-47b3-b000-74d7e353c00a"
      },
      "execution_count": 9,
      "outputs": [
        {
          "output_type": "stream",
          "name": "stdout",
          "text": [
            "       model  year  price  transmission  mileage  fuelType  tax   mpg  \\\n",
            "0          5  2017  12000             0    15944         4  150  57.7   \n",
            "1          6  2018  14000             1     9083         4  150  57.7   \n",
            "2          6  2017  13000             1    12456         4  150  57.7   \n",
            "3          5  2019  17500             1    10460         4  145  40.3   \n",
            "4          5  2019  16500             0     1482         4  145  48.7   \n",
            "...      ...   ...    ...           ...      ...       ...  ...   ...   \n",
            "17961      0  2017   8999             1    16700         4  150  47.1   \n",
            "17962      0  2014   7499             1    40700         4   30  57.7   \n",
            "17963      6  2015   9999             1     7010         0   20  67.3   \n",
            "17964     11  2018   8299             1     5007         4  145  57.7   \n",
            "17965     23  2015   8299             1     5007         4   22  57.7   \n",
            "\n",
            "       engineSize  \n",
            "0             1.0  \n",
            "1             1.0  \n",
            "2             1.0  \n",
            "3             1.5  \n",
            "4             1.0  \n",
            "...           ...  \n",
            "17961         1.4  \n",
            "17962         1.0  \n",
            "17963         1.6  \n",
            "17964         1.2  \n",
            "17965         1.0  \n",
            "\n",
            "[17966 rows x 9 columns]\n"
          ]
        }
      ]
    },
    {
      "cell_type": "code",
      "source": [
        "data.info()"
      ],
      "metadata": {
        "colab": {
          "base_uri": "https://localhost:8080/"
        },
        "id": "tfJZ_ALIuwMI",
        "outputId": "ced2ccb8-ca83-4d7c-a581-a75349fb3ef9"
      },
      "execution_count": 10,
      "outputs": [
        {
          "output_type": "stream",
          "name": "stdout",
          "text": [
            "<class 'pandas.core.frame.DataFrame'>\n",
            "RangeIndex: 17966 entries, 0 to 17965\n",
            "Data columns (total 9 columns):\n",
            " #   Column        Non-Null Count  Dtype  \n",
            "---  ------        --------------  -----  \n",
            " 0   model         17966 non-null  int64  \n",
            " 1   year          17966 non-null  int64  \n",
            " 2   price         17966 non-null  int64  \n",
            " 3   transmission  17966 non-null  int64  \n",
            " 4   mileage       17966 non-null  int64  \n",
            " 5   fuelType      17966 non-null  int64  \n",
            " 6   tax           17966 non-null  int64  \n",
            " 7   mpg           17966 non-null  float64\n",
            " 8   engineSize    17966 non-null  float64\n",
            "dtypes: float64(2), int64(7)\n",
            "memory usage: 1.2 MB\n"
          ]
        }
      ]
    },
    {
      "cell_type": "code",
      "source": [
        "# Lectura de Datos\n",
        "columnas_seleccionadas = list(range(0, 2)) + list(range(3, 9))\n",
        "X = data.iloc[:, columnas_seleccionadas]\n",
        "y = data.iloc[:, 2]\n",
        "m = y.size"
      ],
      "metadata": {
        "id": "dfAt3POlu3E7"
      },
      "execution_count": 11,
      "outputs": []
    },
    {
      "cell_type": "code",
      "source": [
        "print(X)\n",
        "print('*'*25)\n",
        "print(y)\n",
        "print('*'*25)\n",
        "print(m)"
      ],
      "metadata": {
        "colab": {
          "base_uri": "https://localhost:8080/"
        },
        "id": "EGnSiNXWwKL-",
        "outputId": "560fc662-237c-46af-dcb1-bad7a2ce9c43"
      },
      "execution_count": 12,
      "outputs": [
        {
          "output_type": "stream",
          "name": "stdout",
          "text": [
            "       model  year  transmission  mileage  fuelType  tax   mpg  engineSize\n",
            "0          5  2017             0    15944         4  150  57.7         1.0\n",
            "1          6  2018             1     9083         4  150  57.7         1.0\n",
            "2          6  2017             1    12456         4  150  57.7         1.0\n",
            "3          5  2019             1    10460         4  145  40.3         1.5\n",
            "4          5  2019             0     1482         4  145  48.7         1.0\n",
            "...      ...   ...           ...      ...       ...  ...   ...         ...\n",
            "17961      0  2017             1    16700         4  150  47.1         1.4\n",
            "17962      0  2014             1    40700         4   30  57.7         1.0\n",
            "17963      6  2015             1     7010         0   20  67.3         1.6\n",
            "17964     11  2018             1     5007         4  145  57.7         1.2\n",
            "17965     23  2015             1     5007         4   22  57.7         1.0\n",
            "\n",
            "[17966 rows x 8 columns]\n",
            "*************************\n",
            "0        12000\n",
            "1        14000\n",
            "2        13000\n",
            "3        17500\n",
            "4        16500\n",
            "         ...  \n",
            "17961     8999\n",
            "17962     7499\n",
            "17963     9999\n",
            "17964     8299\n",
            "17965     8299\n",
            "Name: price, Length: 17966, dtype: int64\n",
            "*************************\n",
            "17966\n"
          ]
        }
      ]
    },
    {
      "cell_type": "code",
      "source": [
        "def  featureNormalize(X):\n",
        "    X_norm = X.copy()\n",
        "    mu = np.zeros(X.shape[1])\n",
        "    sigma = np.zeros(X.shape[1])\n",
        "\n",
        "    mu = np.mean(X, axis = 0)\n",
        "    sigma = np.std(X, axis = 0)\n",
        "    X_norm = (X - mu) / sigma\n",
        "\n",
        "    return X_norm, mu, sigma"
      ],
      "metadata": {
        "id": "HLmBdV-rwaOA"
      },
      "execution_count": 13,
      "outputs": []
    },
    {
      "cell_type": "code",
      "source": [
        "# llama featureNormalize con los datos cargados\n",
        "X_norm, mu, sigma = featureNormalize(X)\n",
        "\n",
        "print(X)\n",
        "print('Media calculada:', mu)\n",
        "print('Desviación estandar calculada:', sigma)\n",
        "print(X_norm)"
      ],
      "metadata": {
        "colab": {
          "base_uri": "https://localhost:8080/"
        },
        "id": "Sm_CjE2HwnkE",
        "outputId": "bf4f52c9-76ae-4be2-f660-73d92e76ad13"
      },
      "execution_count": 14,
      "outputs": [
        {
          "output_type": "stream",
          "name": "stdout",
          "text": [
            "       model  year  transmission  mileage  fuelType  tax   mpg  engineSize\n",
            "0          5  2017             0    15944         4  150  57.7         1.0\n",
            "1          6  2018             1     9083         4  150  57.7         1.0\n",
            "2          6  2017             1    12456         4  150  57.7         1.0\n",
            "3          5  2019             1    10460         4  145  40.3         1.5\n",
            "4          5  2019             0     1482         4  145  48.7         1.0\n",
            "...      ...   ...           ...      ...       ...  ...   ...         ...\n",
            "17961      0  2017             1    16700         4  150  47.1         1.4\n",
            "17962      0  2014             1    40700         4   30  57.7         1.0\n",
            "17963      6  2015             1     7010         0   20  67.3         1.6\n",
            "17964     11  2018             1     5007         4  145  57.7         1.2\n",
            "17965     23  2015             1     5007         4   22  57.7         1.0\n",
            "\n",
            "[17966 rows x 8 columns]\n",
            "Media calculada: model               6.848547\n",
            "year             2016.866470\n",
            "transmission        0.984749\n",
            "mileage         23362.608761\n",
            "fuelType            2.714294\n",
            "tax               113.329456\n",
            "mpg                57.906980\n",
            "engineSize          1.350807\n",
            "dtype: float64\n",
            "Desviación estandar calculada: model               4.012483\n",
            "year                2.050279\n",
            "transmission        0.368815\n",
            "mileage         19471.512428\n",
            "fuelType            1.866651\n",
            "tax                62.010730\n",
            "mpg                10.125414\n",
            "engineSize          0.432355\n",
            "dtype: float64\n",
            "          model      year  transmission   mileage  fuelType       tax  \\\n",
            "0     -0.460699  0.065128     -2.670032 -0.380998  0.688777  0.591358   \n",
            "1     -0.211477  0.552866      0.041351 -0.733359  0.688777  0.591358   \n",
            "2     -0.211477  0.065128      0.041351 -0.560132  0.688777  0.591358   \n",
            "3     -0.460699  1.040605      0.041351 -0.662640  0.688777  0.510727   \n",
            "4     -0.460699  1.040605     -2.670032 -1.123724  0.688777  0.510727   \n",
            "...         ...       ...           ...       ...       ...       ...   \n",
            "17961 -1.706810  0.065128      0.041351 -0.342172  0.688777  0.591358   \n",
            "17962 -1.706810 -1.398088      0.041351  0.890398  0.688777 -1.343791   \n",
            "17963 -0.211477 -0.910349      0.041351 -0.839822 -1.454098 -1.505053   \n",
            "17964  1.034634  0.552866      0.041351 -0.942690  0.688777  0.510727   \n",
            "17965  4.025302 -0.910349      0.041351 -0.942690  0.688777 -1.472801   \n",
            "\n",
            "            mpg  engineSize  \n",
            "0     -0.020442   -0.811386  \n",
            "1     -0.020442   -0.811386  \n",
            "2     -0.020442   -0.811386  \n",
            "3     -1.738890    0.345070  \n",
            "4     -0.909294   -0.811386  \n",
            "...         ...         ...  \n",
            "17961 -1.067312    0.113779  \n",
            "17962 -0.020442   -0.811386  \n",
            "17963  0.927668    0.576362  \n",
            "17964 -0.020442   -0.348804  \n",
            "17965 -0.020442   -0.811386  \n",
            "\n",
            "[17966 rows x 8 columns]\n"
          ]
        }
      ]
    },
    {
      "cell_type": "code",
      "source": [
        "# Añade el termino de interseccion a X\n",
        "# (Columna de unos para X0)\n",
        "X = np.concatenate([np.ones((m, 1)), X_norm], axis=1)"
      ],
      "metadata": {
        "id": "uOiVhuGEw0Pq"
      },
      "execution_count": 15,
      "outputs": []
    },
    {
      "cell_type": "code",
      "source": [
        "print(X)"
      ],
      "metadata": {
        "colab": {
          "base_uri": "https://localhost:8080/"
        },
        "id": "vgdA8Osiw5E5",
        "outputId": "d467b31f-6c1c-4619-b0ef-45afa130bffa"
      },
      "execution_count": 16,
      "outputs": [
        {
          "output_type": "stream",
          "name": "stdout",
          "text": [
            "[[ 1.         -0.46069913  0.06512772 ...  0.59135805 -0.02044162\n",
            "  -0.81138621]\n",
            " [ 1.         -0.21147687  0.55286624 ...  0.59135805 -0.02044162\n",
            "  -0.81138621]\n",
            " [ 1.         -0.21147687  0.06512772 ...  0.59135805 -0.02044162\n",
            "  -0.81138621]\n",
            " ...\n",
            " [ 1.         -0.21147687 -0.91034931 ... -1.50505332  0.92766777\n",
            "   0.57636151]\n",
            " [ 1.          1.03463446  0.55286624 ...  0.51072684 -0.02044162\n",
            "  -0.34880364]\n",
            " [ 1.          4.02530164 -0.91034931 ... -1.47280084 -0.02044162\n",
            "  -0.81138621]]\n"
          ]
        }
      ]
    },
    {
      "cell_type": "code",
      "source": [
        "def computeCostMulti(X, y, theta):\n",
        "    # Inicializa algunos valores utiles\n",
        "    m = y.shape[0] # numero de ejemplos de entrenamiento\n",
        "\n",
        "    J = 0\n",
        "\n",
        "    h = np.dot(X, theta)\n",
        "\n",
        "    J = (1/(2 * m)) * np.sum(np.square(np.dot(X, theta) - y))\n",
        "\n",
        "    return J"
      ],
      "metadata": {
        "id": "Lv5zLFp9w7fV"
      },
      "execution_count": 17,
      "outputs": []
    },
    {
      "cell_type": "code",
      "source": [
        "def gradientDescentMulti(X, y, theta, alpha, num_iters):\n",
        "\n",
        "    # Inicializa algunos valores\n",
        "    m = y.shape[0] # numero de ejemplos de entrenamiento\n",
        "\n",
        "    # realiza una copia de theta, el cual será acutalizada por el descenso por el gradiente\n",
        "    theta = theta.copy()\n",
        "\n",
        "    J_history = []\n",
        "\n",
        "    for i in range(num_iters):\n",
        "        theta = theta - (alpha / m) * (np.dot(X, theta) - y).dot(X)\n",
        "        J_history.append(computeCostMulti(X, y, theta))\n",
        "\n",
        "    return theta, J_history"
      ],
      "metadata": {
        "id": "xzqGtXfjw9xC"
      },
      "execution_count": 18,
      "outputs": []
    },
    {
      "cell_type": "code",
      "source": [
        "print(X)"
      ],
      "metadata": {
        "colab": {
          "base_uri": "https://localhost:8080/"
        },
        "id": "62sQk8cPxiEk",
        "outputId": "a3906d88-f4d5-4046-c6e6-78cf93a26e99"
      },
      "execution_count": 19,
      "outputs": [
        {
          "output_type": "stream",
          "name": "stdout",
          "text": [
            "[[ 1.         -0.46069913  0.06512772 ...  0.59135805 -0.02044162\n",
            "  -0.81138621]\n",
            " [ 1.         -0.21147687  0.55286624 ...  0.59135805 -0.02044162\n",
            "  -0.81138621]\n",
            " [ 1.         -0.21147687  0.06512772 ...  0.59135805 -0.02044162\n",
            "  -0.81138621]\n",
            " ...\n",
            " [ 1.         -0.21147687 -0.91034931 ... -1.50505332  0.92766777\n",
            "   0.57636151]\n",
            " [ 1.          1.03463446  0.55286624 ...  0.51072684 -0.02044162\n",
            "  -0.34880364]\n",
            " [ 1.          4.02530164 -0.91034931 ... -1.47280084 -0.02044162\n",
            "  -0.81138621]]\n"
          ]
        }
      ]
    },
    {
      "cell_type": "code",
      "source": [
        "# Elegir algun valor para alpha (probar varias alternativas)\n",
        "alpha = 0.001\n",
        "num_iters = 5000\n",
        "\n",
        "# inicializa theta y ejecuta el descenso por el gradiente\n",
        "theta = np.zeros(9)\n",
        "theta, J_history = gradientDescentMulti(X, y, theta, alpha, num_iters)\n",
        "\n",
        "# Grafica la convergencia del costo\n",
        "pyplot.plot(np.arange(len(J_history)), J_history, lw=2)\n",
        "pyplot.xlabel('Numero de iteraciones')\n",
        "pyplot.ylabel('Costo J')\n",
        "\n",
        "# Muestra los resultados del descenso por el gradiente\n",
        "print('theta calculado por el descenso por el gradiente: {:s}'.format(str(theta)))\n",
        "\n",
        "# Estimar el precio para un auto Ford en distintas caracteristicas\n",
        "X_array = [1, 5, 2019, 1, 10460, 4, 145, 40.3, 1.5]\n",
        "X_array[1:9] = (X_array[1:9] - mu) / sigma\n",
        "price = np.dot(X_array, theta)   # Se debe cambiar esto\n",
        "\n",
        "print('El valor predecido es (usando el descenso por el gradiente): {:.4f}'.format(price))"
      ],
      "metadata": {
        "colab": {
          "base_uri": "https://localhost:8080/",
          "height": 554
        },
        "id": "bWb45gnrxAj9",
        "outputId": "ed97d688-a256-4966-b317-3d85b5fa446e"
      },
      "execution_count": 21,
      "outputs": [
        {
          "output_type": "stream",
          "name": "stdout",
          "text": [
            "theta calculado por el descenso por el gradiente: [12197.00271509   208.46449922  2187.91320105   -92.00443493\n",
            " -1364.4948486   -734.49263869   205.24559627 -1037.6962092\n",
            "  1608.44683847]\n",
            "El valor predecido es (usando el descenso por el gradiente): 17236.4703\n"
          ]
        },
        {
          "output_type": "display_data",
          "data": {
            "text/plain": [
              "<Figure size 640x480 with 1 Axes>"
            ],
            "image/png": "[encoded data removed]"
          },
          "metadata": {}
        }
      ]
    }
  ]
}