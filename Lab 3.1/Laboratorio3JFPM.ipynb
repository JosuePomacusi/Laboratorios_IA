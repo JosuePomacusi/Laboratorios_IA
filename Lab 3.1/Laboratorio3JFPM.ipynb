{
  "cells": [
    {
      "cell_type": "code",
      "execution_count": 1,
      "metadata": {
        "id": "r94d3x4gGiyI"
      },
      "outputs": [],
      "source": [
        "import pandas as pd"
      ]
    },
    {
      "cell_type": "code",
      "execution_count": 2,
      "metadata": {
        "id": "ZFWnzj2xLnTl"
      },
      "outputs": [],
      "source": [
        "# se utiliza para el manejo de rutas y directorios.\n",
        "import os\n",
        "\n",
        "# Calculo cientifico y vectorial para python\n",
        "import numpy as np\n",
        "\n",
        "# Librerias para graficar\n",
        "from matplotlib import pyplot\n",
        "\n",
        "# Modulo de optimización de scipy\n",
        "from scipy import optimize\n",
        "\n",
        "# le dice a matplotlib que incruste gráficos en el cuaderno\n",
        "%matplotlib inline"
      ]
    },
    {
      "cell_type": "code",
      "execution_count": 3,
      "metadata": {
        "id": "hfRYvtoqL6TF"
      },
      "outputs": [],
      "source": [
        "import pandas as pd\n",
        "from sklearn.preprocessing import LabelEncoder\n",
        "from datetime import datetime\n",
        "from sklearn.model_selection import train_test_split"
      ]
    },
    {
      "cell_type": "code",
      "execution_count": 4,
      "metadata": {
        "id": "EDKm4Ll-L-Nw"
      },
      "outputs": [],
      "source": [
        "#Carga de dataset\n",
        "data = pd.read_csv('survey lung cancer.csv', header=0, sep=',')"
      ]
    },
    {
      "cell_type": "code",
      "execution_count": 5,
      "metadata": {
        "colab": {
          "base_uri": "https://localhost:8080/"
        },
        "id": "wQpLM_jlMNAr",
        "outputId": "b9354644-400a-4481-e3f0-979b4ce284ab"
      },
      "outputs": [
        {
          "output_type": "stream",
          "name": "stdout",
          "text": [
            "    GENDER  AGE  SMOKING  YELLOW_FINGERS  ANXIETY  PEER_PRESSURE  \\\n",
            "0        M   69        1               2        2              1   \n",
            "1        M   74        2               1        1              1   \n",
            "2        F   59        1               1        1              2   \n",
            "3        M   63        2               2        2              1   \n",
            "4        F   63        1               2        1              1   \n",
            "..     ...  ...      ...             ...      ...            ...   \n",
            "304      F   56        1               1        1              2   \n",
            "305      M   70        2               1        1              1   \n",
            "306      M   58        2               1        1              1   \n",
            "307      M   67        2               1        2              1   \n",
            "308      M   62        1               1        1              2   \n",
            "\n",
            "     CHRONIC DISEASE  FATIGUE   ALLERGY   WHEEZING  ALCOHOL CONSUMING  \\\n",
            "0                  1         2         1         2                  2   \n",
            "1                  2         2         2         1                  1   \n",
            "2                  1         2         1         2                  1   \n",
            "3                  1         1         1         1                  2   \n",
            "4                  1         1         1         2                  1   \n",
            "..               ...       ...       ...       ...                ...   \n",
            "304                2         2         1         1                  2   \n",
            "305                1         2         2         2                  2   \n",
            "306                1         1         2         2                  2   \n",
            "307                1         2         2         1                  2   \n",
            "308                1         2         2         2                  2   \n",
            "\n",
            "     COUGHING  SHORTNESS OF BREATH  SWALLOWING DIFFICULTY  CHEST PAIN  \\\n",
            "0           2                    2                      2           2   \n",
            "1           1                    2                      2           2   \n",
            "2           2                    2                      1           2   \n",
            "3           1                    1                      2           2   \n",
            "4           2                    2                      1           1   \n",
            "..        ...                  ...                    ...         ...   \n",
            "304         2                    2                      2           1   \n",
            "305         2                    2                      1           2   \n",
            "306         2                    1                      1           2   \n",
            "307         2                    2                      1           2   \n",
            "308         1                    1                      2           1   \n",
            "\n",
            "    LUNG_CANCER  \n",
            "0           YES  \n",
            "1           YES  \n",
            "2            NO  \n",
            "3            NO  \n",
            "4            NO  \n",
            "..          ...  \n",
            "304         YES  \n",
            "305         YES  \n",
            "306         YES  \n",
            "307         YES  \n",
            "308         YES  \n",
            "\n",
            "[309 rows x 16 columns]\n"
          ]
        }
      ],
      "source": [
        "print(data)"
      ]
    },
    {
      "cell_type": "code",
      "execution_count": 6,
      "metadata": {
        "colab": {
          "base_uri": "https://localhost:8080/"
        },
        "id": "p5WtDJtrMhJV",
        "outputId": "8250c946-52e6-4dae-c974-dacb09b1ffca"
      },
      "outputs": [
        {
          "output_type": "stream",
          "name": "stdout",
          "text": [
            "<class 'pandas.core.frame.DataFrame'>\n",
            "RangeIndex: 309 entries, 0 to 308\n",
            "Data columns (total 16 columns):\n",
            " #   Column                 Non-Null Count  Dtype \n",
            "---  ------                 --------------  ----- \n",
            " 0   GENDER                 309 non-null    object\n",
            " 1   AGE                    309 non-null    int64 \n",
            " 2   SMOKING                309 non-null    int64 \n",
            " 3   YELLOW_FINGERS         309 non-null    int64 \n",
            " 4   ANXIETY                309 non-null    int64 \n",
            " 5   PEER_PRESSURE          309 non-null    int64 \n",
            " 6   CHRONIC DISEASE        309 non-null    int64 \n",
            " 7   FATIGUE                309 non-null    int64 \n",
            " 8   ALLERGY                309 non-null    int64 \n",
            " 9   WHEEZING               309 non-null    int64 \n",
            " 10  ALCOHOL CONSUMING      309 non-null    int64 \n",
            " 11  COUGHING               309 non-null    int64 \n",
            " 12  SHORTNESS OF BREATH    309 non-null    int64 \n",
            " 13  SWALLOWING DIFFICULTY  309 non-null    int64 \n",
            " 14  CHEST PAIN             309 non-null    int64 \n",
            " 15  LUNG_CANCER            309 non-null    object\n",
            "dtypes: int64(14), object(2)\n",
            "memory usage: 38.8+ KB\n"
          ]
        }
      ],
      "source": [
        "data.info()"
      ]
    },
    {
      "cell_type": "code",
      "execution_count": 7,
      "metadata": {
        "id": "dXc0EUCfMuBF"
      },
      "outputs": [],
      "source": [
        "columnas_categoricas = data.select_dtypes(include=['object']).columns"
      ]
    },
    {
      "cell_type": "code",
      "execution_count": 8,
      "metadata": {
        "id": "6LPjUr_lMyky"
      },
      "outputs": [],
      "source": [
        "#procesamiento de frases\n",
        "for columna in columnas_categoricas:\n",
        "  le = LabelEncoder()\n",
        "  data[columna] = le.fit_transform(data[columna])"
      ]
    },
    {
      "cell_type": "code",
      "execution_count": 9,
      "metadata": {
        "colab": {
          "base_uri": "https://localhost:8080/"
        },
        "id": "EQzHHvZmMz3t",
        "outputId": "a06b5297-5ef9-496d-cc34-28b6d091b00a"
      },
      "outputs": [
        {
          "output_type": "stream",
          "name": "stdout",
          "text": [
            "<class 'pandas.core.frame.DataFrame'>\n",
            "RangeIndex: 309 entries, 0 to 308\n",
            "Data columns (total 16 columns):\n",
            " #   Column                 Non-Null Count  Dtype\n",
            "---  ------                 --------------  -----\n",
            " 0   GENDER                 309 non-null    int64\n",
            " 1   AGE                    309 non-null    int64\n",
            " 2   SMOKING                309 non-null    int64\n",
            " 3   YELLOW_FINGERS         309 non-null    int64\n",
            " 4   ANXIETY                309 non-null    int64\n",
            " 5   PEER_PRESSURE          309 non-null    int64\n",
            " 6   CHRONIC DISEASE        309 non-null    int64\n",
            " 7   FATIGUE                309 non-null    int64\n",
            " 8   ALLERGY                309 non-null    int64\n",
            " 9   WHEEZING               309 non-null    int64\n",
            " 10  ALCOHOL CONSUMING      309 non-null    int64\n",
            " 11  COUGHING               309 non-null    int64\n",
            " 12  SHORTNESS OF BREATH    309 non-null    int64\n",
            " 13  SWALLOWING DIFFICULTY  309 non-null    int64\n",
            " 14  CHEST PAIN             309 non-null    int64\n",
            " 15  LUNG_CANCER            309 non-null    int64\n",
            "dtypes: int64(16)\n",
            "memory usage: 38.8 KB\n"
          ]
        }
      ],
      "source": [
        "data.info()"
      ]
    },
    {
      "cell_type": "code",
      "execution_count": 10,
      "metadata": {
        "id": "QQlQIOixM8G8"
      },
      "outputs": [],
      "source": [
        "# Division de dataset en entrenamiento y prueba\n",
        "train_data, test_data = train_test_split(data, test_size=0.2, random_state=42)"
      ]
    },
    {
      "cell_type": "code",
      "execution_count": 11,
      "metadata": {
        "colab": {
          "base_uri": "https://localhost:8080/"
        },
        "id": "HwvyOhFMM_je",
        "outputId": "0bde877c-1b8d-4cc4-80b5-cd8fabc6d0d2"
      },
      "outputs": [
        {
          "output_type": "stream",
          "name": "stdout",
          "text": [
            "     GENDER  AGE  SMOKING  YELLOW_FINGERS  ANXIETY  PEER_PRESSURE  \\\n",
            "126       1   51        2               1        1              1   \n",
            "109       1   53        1               1        1              1   \n",
            "247       1   67        1               2        1              1   \n",
            "234       1   77        1               2        1              2   \n",
            "202       1   74        2               1        1              1   \n",
            "..      ...  ...      ...             ...      ...            ...   \n",
            "188       1   65        2               2        2              2   \n",
            "71        0   66        2               2        2              2   \n",
            "106       0   61        2               2        2              2   \n",
            "270       0   70        2               1        1              1   \n",
            "102       1   64        2               1        1              1   \n",
            "\n",
            "     CHRONIC DISEASE  FATIGUE   ALLERGY   WHEEZING  ALCOHOL CONSUMING  \\\n",
            "126                1         2         1         2                  2   \n",
            "109                2         2         2         1                  2   \n",
            "247                1         2         1         2                  2   \n",
            "234                1         2         2         2                  2   \n",
            "202                2         2         2         2                  2   \n",
            "..               ...       ...       ...       ...                ...   \n",
            "188                2         1         1         1                  1   \n",
            "71                 1         2         1         2                  1   \n",
            "106                2         2         1         1                  1   \n",
            "270                1         2         1         1                  1   \n",
            "102                1         2         2         2                  2   \n",
            "\n",
            "     COUGHING  SHORTNESS OF BREATH  SWALLOWING DIFFICULTY  CHEST PAIN  \\\n",
            "126         2                    2                      1           2   \n",
            "109         1                    2                      1           2   \n",
            "247         2                    2                      1           1   \n",
            "234         2                    1                      1           1   \n",
            "202         1                    1                      2           2   \n",
            "..        ...                  ...                    ...         ...   \n",
            "188         1                    1                      1           1   \n",
            "71          2                    2                      2           1   \n",
            "106         1                    2                      2           1   \n",
            "270         1                    2                      1           1   \n",
            "102         2                    2                      1           2   \n",
            "\n",
            "     LUNG_CANCER  \n",
            "126            1  \n",
            "109            1  \n",
            "247            1  \n",
            "234            1  \n",
            "202            1  \n",
            "..           ...  \n",
            "188            1  \n",
            "71             1  \n",
            "106            1  \n",
            "270            0  \n",
            "102            1  \n",
            "\n",
            "[247 rows x 16 columns]\n"
          ]
        }
      ],
      "source": [
        "print(train_data)"
      ]
    },
    {
      "cell_type": "code",
      "execution_count": 12,
      "metadata": {
        "colab": {
          "base_uri": "https://localhost:8080/"
        },
        "id": "0WkdasSYNELo",
        "outputId": "bc113cd6-b820-445f-e827-2fe1920c39c8"
      },
      "outputs": [
        {
          "output_type": "stream",
          "name": "stdout",
          "text": [
            "     GENDER  AGE  SMOKING  YELLOW_FINGERS  ANXIETY  PEER_PRESSURE  \\\n",
            "288       0   61        1               2        2              2   \n",
            "9         1   53        2               2        2              2   \n",
            "57        1   73        1               1        1              1   \n",
            "60        1   70        1               2        1              2   \n",
            "25        1   65        1               2        2              1   \n",
            "..      ...  ...      ...             ...      ...            ...   \n",
            "198       0   73        2               2        2              1   \n",
            "195       1   69        1               2        2              1   \n",
            "210       1   54        2               1        1              1   \n",
            "224       0   62        2               1        1              2   \n",
            "158       0   56        1               1        2              2   \n",
            "\n",
            "     CHRONIC DISEASE  FATIGUE   ALLERGY   WHEEZING  ALCOHOL CONSUMING  \\\n",
            "288                1         1         2         2                  1   \n",
            "9                  2         1         2         1                  2   \n",
            "57                 2         1         2         1                  2   \n",
            "60                 2         2         2         2                  2   \n",
            "25                 1         2         1         2                  2   \n",
            "..               ...       ...       ...       ...                ...   \n",
            "198                2         1         2         1                  2   \n",
            "195                1         1         1         2                  2   \n",
            "210                1         1         2         2                  2   \n",
            "224                1         2         2         2                  2   \n",
            "158                2         2         2         2                  2   \n",
            "\n",
            "     COUGHING  SHORTNESS OF BREATH  SWALLOWING DIFFICULTY  CHEST PAIN  \\\n",
            "288         2                    1                      2           1   \n",
            "9           1                    1                      2           2   \n",
            "57          2                    2                      2           2   \n",
            "60          2                    1                      2           2   \n",
            "25          2                    2                      2           2   \n",
            "..        ...                  ...                    ...         ...   \n",
            "198         1                    1                      1           1   \n",
            "195         2                    2                      2           1   \n",
            "210         2                    1                      1           1   \n",
            "224         2                    1                      2           2   \n",
            "158         1                    2                      2           2   \n",
            "\n",
            "     LUNG_CANCER  \n",
            "288            1  \n",
            "9              1  \n",
            "57             1  \n",
            "60             1  \n",
            "25             1  \n",
            "..           ...  \n",
            "198            1  \n",
            "195            1  \n",
            "210            1  \n",
            "224            1  \n",
            "158            1  \n",
            "\n",
            "[62 rows x 16 columns]\n"
          ]
        }
      ],
      "source": [
        "print(test_data)"
      ]
    },
    {
      "cell_type": "code",
      "execution_count": 13,
      "metadata": {
        "colab": {
          "base_uri": "https://localhost:8080/"
        },
        "id": "bgSCGVvZNN7A",
        "outputId": "cc9dd79c-9c0e-4a45-c73f-56dd2645c68a"
      },
      "outputs": [
        {
          "output_type": "stream",
          "name": "stdout",
          "text": [
            "<class 'pandas.core.frame.DataFrame'>\n",
            "Int64Index: 247 entries, 126 to 102\n",
            "Data columns (total 16 columns):\n",
            " #   Column                 Non-Null Count  Dtype\n",
            "---  ------                 --------------  -----\n",
            " 0   GENDER                 247 non-null    int64\n",
            " 1   AGE                    247 non-null    int64\n",
            " 2   SMOKING                247 non-null    int64\n",
            " 3   YELLOW_FINGERS         247 non-null    int64\n",
            " 4   ANXIETY                247 non-null    int64\n",
            " 5   PEER_PRESSURE          247 non-null    int64\n",
            " 6   CHRONIC DISEASE        247 non-null    int64\n",
            " 7   FATIGUE                247 non-null    int64\n",
            " 8   ALLERGY                247 non-null    int64\n",
            " 9   WHEEZING               247 non-null    int64\n",
            " 10  ALCOHOL CONSUMING      247 non-null    int64\n",
            " 11  COUGHING               247 non-null    int64\n",
            " 12  SHORTNESS OF BREATH    247 non-null    int64\n",
            " 13  SWALLOWING DIFFICULTY  247 non-null    int64\n",
            " 14  CHEST PAIN             247 non-null    int64\n",
            " 15  LUNG_CANCER            247 non-null    int64\n",
            "dtypes: int64(16)\n",
            "memory usage: 32.8 KB\n"
          ]
        }
      ],
      "source": [
        "train_data.info()"
      ]
    },
    {
      "cell_type": "code",
      "execution_count": 14,
      "metadata": {
        "colab": {
          "base_uri": "https://localhost:8080/"
        },
        "id": "5y7SIObPNapn",
        "outputId": "42f57163-1426-473b-c9ad-a79c4eac48df"
      },
      "outputs": [
        {
          "output_type": "stream",
          "name": "stdout",
          "text": [
            "<class 'pandas.core.frame.DataFrame'>\n",
            "Int64Index: 62 entries, 288 to 158\n",
            "Data columns (total 16 columns):\n",
            " #   Column                 Non-Null Count  Dtype\n",
            "---  ------                 --------------  -----\n",
            " 0   GENDER                 62 non-null     int64\n",
            " 1   AGE                    62 non-null     int64\n",
            " 2   SMOKING                62 non-null     int64\n",
            " 3   YELLOW_FINGERS         62 non-null     int64\n",
            " 4   ANXIETY                62 non-null     int64\n",
            " 5   PEER_PRESSURE          62 non-null     int64\n",
            " 6   CHRONIC DISEASE        62 non-null     int64\n",
            " 7   FATIGUE                62 non-null     int64\n",
            " 8   ALLERGY                62 non-null     int64\n",
            " 9   WHEEZING               62 non-null     int64\n",
            " 10  ALCOHOL CONSUMING      62 non-null     int64\n",
            " 11  COUGHING               62 non-null     int64\n",
            " 12  SHORTNESS OF BREATH    62 non-null     int64\n",
            " 13  SWALLOWING DIFFICULTY  62 non-null     int64\n",
            " 14  CHEST PAIN             62 non-null     int64\n",
            " 15  LUNG_CANCER            62 non-null     int64\n",
            "dtypes: int64(16)\n",
            "memory usage: 8.2 KB\n"
          ]
        }
      ],
      "source": [
        "test_data.info()"
      ]
    },
    {
      "cell_type": "code",
      "execution_count": 15,
      "metadata": {
        "id": "Zru8g3fFNjsd"
      },
      "outputs": [],
      "source": [
        "train_data.to_csv(\"train.csv\", index=False)"
      ]
    },
    {
      "cell_type": "code",
      "execution_count": 16,
      "metadata": {
        "id": "Fxm3wKURNkYX"
      },
      "outputs": [],
      "source": [
        "test_data.to_csv(\"test.csv\", index=False)"
      ]
    },
    {
      "cell_type": "code",
      "execution_count": 17,
      "metadata": {
        "id": "Sv1Q_a5XNmxT"
      },
      "outputs": [],
      "source": [
        "#Carga de dataset\n",
        "data = pd.read_csv('train.csv')"
      ]
    },
    {
      "cell_type": "code",
      "execution_count": 18,
      "metadata": {
        "id": "j0F1ocddNo94"
      },
      "outputs": [],
      "source": [
        "X = data.iloc[:, :15]\n",
        "y = data.iloc[:, 15]\n",
        "m = y.size"
      ]
    },
    {
      "cell_type": "code",
      "execution_count": 19,
      "metadata": {
        "colab": {
          "base_uri": "https://localhost:8080/"
        },
        "id": "8b40T-pBNtNe",
        "outputId": "37da02e6-7903-4f2f-c15c-058eae8e3e06"
      },
      "outputs": [
        {
          "output_type": "stream",
          "name": "stdout",
          "text": [
            "     GENDER  AGE  SMOKING  YELLOW_FINGERS  ANXIETY  PEER_PRESSURE  \\\n",
            "0         1   51        2               1        1              1   \n",
            "1         1   53        1               1        1              1   \n",
            "2         1   67        1               2        1              1   \n",
            "3         1   77        1               2        1              2   \n",
            "4         1   74        2               1        1              1   \n",
            "..      ...  ...      ...             ...      ...            ...   \n",
            "242       1   65        2               2        2              2   \n",
            "243       0   66        2               2        2              2   \n",
            "244       0   61        2               2        2              2   \n",
            "245       0   70        2               1        1              1   \n",
            "246       1   64        2               1        1              1   \n",
            "\n",
            "     CHRONIC DISEASE  FATIGUE   ALLERGY   WHEEZING  ALCOHOL CONSUMING  \\\n",
            "0                  1         2         1         2                  2   \n",
            "1                  2         2         2         1                  2   \n",
            "2                  1         2         1         2                  2   \n",
            "3                  1         2         2         2                  2   \n",
            "4                  2         2         2         2                  2   \n",
            "..               ...       ...       ...       ...                ...   \n",
            "242                2         1         1         1                  1   \n",
            "243                1         2         1         2                  1   \n",
            "244                2         2         1         1                  1   \n",
            "245                1         2         1         1                  1   \n",
            "246                1         2         2         2                  2   \n",
            "\n",
            "     COUGHING  SHORTNESS OF BREATH  SWALLOWING DIFFICULTY  CHEST PAIN  \n",
            "0           2                    2                      1           2  \n",
            "1           1                    2                      1           2  \n",
            "2           2                    2                      1           1  \n",
            "3           2                    1                      1           1  \n",
            "4           1                    1                      2           2  \n",
            "..        ...                  ...                    ...         ...  \n",
            "242         1                    1                      1           1  \n",
            "243         2                    2                      2           1  \n",
            "244         1                    2                      2           1  \n",
            "245         1                    2                      1           1  \n",
            "246         2                    2                      1           2  \n",
            "\n",
            "[247 rows x 15 columns]\n",
            "*************************\n",
            "0      1\n",
            "1      1\n",
            "2      1\n",
            "3      1\n",
            "4      1\n",
            "      ..\n",
            "242    1\n",
            "243    1\n",
            "244    1\n",
            "245    0\n",
            "246    1\n",
            "Name: LUNG_CANCER, Length: 247, dtype: int64\n"
          ]
        }
      ],
      "source": [
        "print(X)\n",
        "print('*'*25)\n",
        "print(y)"
      ]
    },
    {
      "cell_type": "code",
      "execution_count": 20,
      "metadata": {
        "id": "A1Y98BKON9Pn"
      },
      "outputs": [],
      "source": [
        "def sigmoid(z):\n",
        "    # Calcula la sigmoide de una entrada z\n",
        "    # convierte la intrada a un arreglo numpy\n",
        "    z = np.array(z)\n",
        "\n",
        "    g = np.zeros(z.shape)\n",
        "\n",
        "    g = 1 / (1 + np.exp(-z))\n",
        "\n",
        "    return g"
      ]
    },
    {
      "cell_type": "code",
      "execution_count": 21,
      "metadata": {
        "id": "eQnbD1qfN_nR"
      },
      "outputs": [],
      "source": [
        "# Configurar la matriz adecuadamente, y agregar una columna de unos que corresponde al termino de intercepción.\n",
        "m, n = X.shape\n",
        "# Agraga el termino de intercepción a A\n",
        "X = np.concatenate([np.ones((m, 1)), X], axis=1)"
      ]
    },
    {
      "cell_type": "code",
      "execution_count": 22,
      "metadata": {
        "colab": {
          "base_uri": "https://localhost:8080/"
        },
        "id": "eZj7yxXQOCk8",
        "outputId": "934e9d3c-3199-4687-f969-6b618831da73"
      },
      "outputs": [
        {
          "output_type": "stream",
          "name": "stdout",
          "text": [
            "[[ 1.  1. 51. ...  2.  1.  2.]\n",
            " [ 1.  1. 53. ...  2.  1.  2.]\n",
            " [ 1.  1. 67. ...  2.  1.  1.]\n",
            " ...\n",
            " [ 1.  0. 61. ...  2.  2.  1.]\n",
            " [ 1.  0. 70. ...  2.  1.  1.]\n",
            " [ 1.  1. 64. ...  2.  1.  2.]]\n"
          ]
        }
      ],
      "source": [
        "print(X)"
      ]
    },
    {
      "cell_type": "code",
      "execution_count": 23,
      "metadata": {
        "id": "4O0v-BK9OFtD"
      },
      "outputs": [],
      "source": [
        "def calcularCosto(theta, X, y):\n",
        "    # Inicializar algunos valores utiles\n",
        "    m = y.size  # numero de ejemplos de entrenamiento\n",
        "\n",
        "    J = 0\n",
        "    h = sigmoid(X.dot(theta.T))\n",
        "    J = (1 / m) * np.sum(-y.dot(np.log(h)) - (1 - y).dot(np.log(1 - h)))\n",
        "\n",
        "    return J"
      ]
    },
    {
      "cell_type": "code",
      "execution_count": 24,
      "metadata": {
        "id": "Dt9WJeiVOKyA"
      },
      "outputs": [],
      "source": [
        "def descensoGradiente(theta, X, y, alpha, num_iters):\n",
        "    # Inicializa algunos valores\n",
        "    m = y.shape[0] # numero de ejemplos de entrenamiento\n",
        "\n",
        "    # realiza una copia de theta, el cual será acutalizada por el descenso por el gradiente\n",
        "    theta = theta.copy()\n",
        "    J_history = []\n",
        "\n",
        "    for i in range(num_iters):\n",
        "        h = sigmoid(X.dot(theta.T))\n",
        "        theta = theta - (alpha / m) * (h - y).dot(X)\n",
        "\n",
        "        J_history.append(calcularCosto(theta, X, y))\n",
        "    return theta, J_history"
      ]
    },
    {
      "cell_type": "code",
      "execution_count": 25,
      "metadata": {
        "colab": {
          "base_uri": "https://localhost:8080/"
        },
        "id": "TzU-KA1wOLoE",
        "outputId": "dbf0173a-1da9-4aa6-b4f5-a47ed53d4d1e"
      },
      "outputs": [
        {
          "output_type": "stream",
          "name": "stdout",
          "text": [
            "    GENDER  AGE  SMOKING  YELLOW_FINGERS  ANXIETY  PEER_PRESSURE  \\\n",
            "0        0   61        1               2        2              2   \n",
            "1        1   53        2               2        2              2   \n",
            "2        1   73        1               1        1              1   \n",
            "3        1   70        1               2        1              2   \n",
            "4        1   65        1               2        2              1   \n",
            "..     ...  ...      ...             ...      ...            ...   \n",
            "57       0   73        2               2        2              1   \n",
            "58       1   69        1               2        2              1   \n",
            "59       1   54        2               1        1              1   \n",
            "60       0   62        2               1        1              2   \n",
            "61       0   56        1               1        2              2   \n",
            "\n",
            "    CHRONIC DISEASE  FATIGUE   ALLERGY   WHEEZING  ALCOHOL CONSUMING  \\\n",
            "0                 1         1         2         2                  1   \n",
            "1                 2         1         2         1                  2   \n",
            "2                 2         1         2         1                  2   \n",
            "3                 2         2         2         2                  2   \n",
            "4                 1         2         1         2                  2   \n",
            "..              ...       ...       ...       ...                ...   \n",
            "57                2         1         2         1                  2   \n",
            "58                1         1         1         2                  2   \n",
            "59                1         1         2         2                  2   \n",
            "60                1         2         2         2                  2   \n",
            "61                2         2         2         2                  2   \n",
            "\n",
            "    COUGHING  SHORTNESS OF BREATH  SWALLOWING DIFFICULTY  CHEST PAIN  \\\n",
            "0          2                    1                      2           1   \n",
            "1          1                    1                      2           2   \n",
            "2          2                    2                      2           2   \n",
            "3          2                    1                      2           2   \n",
            "4          2                    2                      2           2   \n",
            "..       ...                  ...                    ...         ...   \n",
            "57         1                    1                      1           1   \n",
            "58         2                    2                      2           1   \n",
            "59         2                    1                      1           1   \n",
            "60         2                    1                      2           2   \n",
            "61         1                    2                      2           2   \n",
            "\n",
            "    LUNG_CANCER  \n",
            "0             1  \n",
            "1             1  \n",
            "2             1  \n",
            "3             1  \n",
            "4             1  \n",
            "..          ...  \n",
            "57            1  \n",
            "58            1  \n",
            "59            1  \n",
            "60            1  \n",
            "61            1  \n",
            "\n",
            "[62 rows x 16 columns]\n"
          ]
        }
      ],
      "source": [
        "#Carga de dataset\n",
        "data = pd.read_csv('test.csv')\n",
        "print(data)"
      ]
    },
    {
      "cell_type": "code",
      "execution_count": 26,
      "metadata": {
        "colab": {
          "base_uri": "https://localhost:8080/"
        },
        "id": "_aPQ4YCGOQEc",
        "outputId": "06333e24-f728-43d1-cfb8-c0c36280dbb4"
      },
      "outputs": [
        {
          "output_type": "stream",
          "name": "stdout",
          "text": [
            "[1, 70, 1, 2, 1, 2, 2, 2, 2, 2, 2, 2, 1, 2, 2, 1]\n"
          ]
        }
      ],
      "source": [
        "#Podemos ver los valores de toda la fila\n",
        "fila_deseada = 3\n",
        "\n",
        "if fila_deseada < len(data):\n",
        "  fila_completa = data.iloc[fila_deseada].tolist()\n",
        "  print(fila_completa)\n",
        "else:\n",
        "  print(\"La fila no existe\")"
      ]
    },
    {
      "cell_type": "code",
      "execution_count": 27,
      "metadata": {
        "colab": {
          "base_uri": "https://localhost:8080/",
          "height": 520
        },
        "id": "cRDyt8DbOTgQ",
        "outputId": "8eb78d0e-e414-44a7-c0fe-e99b357dc731"
      },
      "outputs": [
        {
          "output_type": "stream",
          "name": "stdout",
          "text": [
            "theta calculado por el descenso por el gradiente: [-0.00307433  0.02572038  0.00678798  0.02119668  0.06296077  0.0503928\n",
            "  0.06335291  0.03681425  0.06284454  0.11357923  0.08259147  0.10633857\n",
            "  0.08541772  0.02364396  0.09236729  0.06734476]\n",
            "Un estudiante con nota del examen 1: 1 y nota del examen 2: 70 (usando el descenso por el gradiente):0.8947552213237149\n"
          ]
        },
        {
          "output_type": "display_data",
          "data": {
            "text/plain": [
              "<Figure size 640x480 with 1 Axes>"
            ],
            "image/png": "[encoded data removed]"
          },
          "metadata": {}
        }
      ],
      "source": [
        "# Elegir algun valor para alpha (probar varias alternativas)\n",
        "alpha = 0.0003\n",
        "num_iters = 7000\n",
        "\n",
        "# inicializa theta y ejecuta el descenso por el gradiente\n",
        "theta = np.zeros(16)\n",
        "theta, J_history = descensoGradiente(theta, X, y, alpha, num_iters)\n",
        "\n",
        "# Grafica la convergencia del costo\n",
        "pyplot.plot(np.arange(len(J_history)), J_history, lw=2)\n",
        "pyplot.xlabel('Numero de iteraciones')\n",
        "pyplot.ylabel('Costo J')\n",
        "\n",
        "# Muestra los resultados del descenso por el gradiente\n",
        "print('theta calculado por el descenso por el gradiente: {:s}'.format(str(theta)))\n",
        "\n",
        "# verificar si ingresa o no a la universidad\n",
        "X_array = [ 1, 1, 70, 1, 2, 1, 2, 2, 2, 2, 2, 2, 2, 1, 2, 2]\n",
        "\n",
        "aprueba = sigmoid(np.dot(X_array, theta))   # Se debe cambiar esto\n",
        "\n",
        "print(f\"Un estudiante con nota del examen 1: {X_array[1]} y nota del examen 2: {X_array[2]} (usando el descenso por el gradiente):{aprueba}\")"
      ]
    },
    {
      "cell_type": "code",
      "execution_count": 28,
      "metadata": {
        "id": "7aUOD6-lPJj1"
      },
      "outputs": [],
      "source": [
        "def costFunction(theta, X, y):\n",
        "    # Inicializar algunos valores utiles\n",
        "    m = y.size  # numero de ejemplos de entrenamiento\n",
        "    epsilon = 1e-8\n",
        "\n",
        "    J = 0\n",
        "    grad = np.zeros(theta.shape)\n",
        "\n",
        "    h = sigmoid(X.dot(theta.T))\n",
        "\n",
        "    J = (1 / m) * np.sum(-y.dot(np.log(h+epsilon)) - (1 - y).dot(np.log(1 - h+epsilon)))\n",
        "    grad = (1 / m) * (h - y).dot(X)\n",
        "\n",
        "    return J, grad"
      ]
    },
    {
      "cell_type": "code",
      "execution_count": 29,
      "metadata": {
        "colab": {
          "base_uri": "https://localhost:8080/"
        },
        "id": "S2AOJq4lPOxz",
        "outputId": "159bfdae-e728-4dd3-ceaf-80d8182bad3c"
      },
      "outputs": [
        {
          "output_type": "stream",
          "name": "stdout",
          "text": [
            "[0. 0. 0. 0. 0. 0. 0. 0. 0. 0. 0. 0. 0. 0. 0. 0.]\n",
            "Costo en theta inicial (zeros): 0.693\n",
            "Costo esperado (aproximado): 0.693\n",
            "\n",
            "[ -0.35020243  -0.20242915 -22.04251012  -0.56072874  -0.57287449\n",
            "  -0.54453441  -0.55668016  -0.53846154  -0.63157895  -0.59716599\n",
            "  -0.58502024  -0.59716599  -0.60121457  -0.5951417   -0.548583\n",
            "  -0.57692308]\n"
          ]
        }
      ],
      "source": [
        "# Inicializacion de parametros de ajuste\n",
        "initial_theta = np.zeros(n+1)\n",
        "print(initial_theta)\n",
        "cost, grad = costFunction(initial_theta, X, y)\n",
        "print('Costo en theta inicial (zeros): {:.3f}'.format(cost))\n",
        "print('Costo esperado (aproximado): 0.693\\n')\n",
        "print(grad)"
      ]
    },
    {
      "cell_type": "code",
      "execution_count": 30,
      "metadata": {
        "colab": {
          "base_uri": "https://localhost:8080/"
        },
        "id": "7BH9u56BPSMp",
        "outputId": "7c991a4c-b83e-4b19-86f2-9440afc64287"
      },
      "outputs": [
        {
          "output_type": "stream",
          "name": "stdout",
          "text": [
            "[ -0.35020243  -0.20242915 -22.04251012  -0.56072874  -0.57287449\n",
            "  -0.54453441  -0.55668016  -0.53846154  -0.63157895  -0.59716599\n",
            "  -0.58502024  -0.59716599  -0.60121457  -0.5951417   -0.548583\n",
            "  -0.57692308]\n",
            "Costo en theta prueba: 15.661\n",
            "Gradiente en theta prueba:\n",
            "\t[-0.850, -0.470, -53.166, -1.344, -1.344, -1.283, -1.304, -1.279, -1.486]\n"
          ]
        },
        {
          "output_type": "stream",
          "name": "stderr",
          "text": [
            "<ipython-input-20-22f640bc02db>:8: RuntimeWarning: overflow encountered in exp\n",
            "  g = 1 / (1 + np.exp(-z))\n"
          ]
        }
      ],
      "source": [
        "# Calcula y muestra el costo y el gradiente con valores de theta diferentes a cero\n",
        "\n",
        "test_theta = np.array([ -0.35020243,  -0.20242915, -22.04251012,  -0.56072874,  -0.57287449,\n",
        "  -0.54453441,  -0.55668016,  -0.53846154,  -0.63157895,  -0.59716599,\n",
        "  -0.58502024,  -0.59716599,  -0.60121457,  -0.5951417,   -0.548583,\n",
        "  -0.57692308])\n",
        "#test_theta = np.array([-11.74749157, 0.09927308, 0.09316497])\n",
        "print(test_theta)\n",
        "cost, grad = costFunction(test_theta, X, y)\n",
        "\n",
        "print('Costo en theta prueba: {:.3f}'.format(cost))\n",
        "\n",
        "print('Gradiente en theta prueba:')\n",
        "print('\\t[{:.3f}, {:.3f}, {:.3f}, {:.3f}, {:.3f}, {:.3f}, {:.3f}, {:.3f}, {:.3f}]'.format(*grad))"
      ]
    },
    {
      "cell_type": "code",
      "execution_count": 31,
      "metadata": {
        "id": "YKoy44LwPWqV",
        "colab": {
          "base_uri": "https://localhost:8080/"
        },
        "outputId": "943c5a9d-a11b-49ff-d526-192742b39147"
      },
      "outputs": [
        {
          "output_type": "stream",
          "name": "stderr",
          "text": [
            "<ipython-input-31-7cf4cc8ed41d>:7: DeprecationWarning: 'maxiter' has been deprecated in favor of 'maxfun' and will be removed in SciPy 1.11.0.\n",
            "  res = optimize.minimize(costFunction,\n"
          ]
        },
        {
          "output_type": "stream",
          "name": "stdout",
          "text": [
            "Costo con un valor de theta encontrado por optimize.minimize: 0.166\n",
            "theta:\n",
            "\t[-30.371, -0.507, 0.026, 1.833, 1.499, 0.767, 1.541, 3.072, 3.009]\n"
          ]
        }
      ],
      "source": [
        "# Establecer las opciones para optimize.minimize\n",
        "options= {'maxiter': 1000}\n",
        "\n",
        "# revisar la documentacion de scipy's optimize.minimize para mayor descripcion de los parametros\n",
        "# La funcion devuekve un objeto `OptimizeResult`\n",
        "# Se utiliza el algoritmo de Newton truncado para la optimización.\n",
        "res = optimize.minimize(costFunction,\n",
        "                        initial_theta,\n",
        "                        (X, y),\n",
        "                        jac=True,\n",
        "                        method='TNC',\n",
        "                        options=options)\n",
        "\n",
        "# la propiedad fun del objeto devuelto por `OptimizeResult`\n",
        "# contiene el valor del costFunction de un theta optimizado\n",
        "cost = res.fun\n",
        "\n",
        "# Theta optimizada esta en la propiedad x\n",
        "theta = res.x\n",
        "\n",
        "# Imprimir theta en la pantalla\n",
        "print('Costo con un valor de theta encontrado por optimize.minimize: {:.3f}'.format(cost))\n",
        "\n",
        "print('theta:')\n",
        "print('\\t[{:.3f}, {:.3f}, {:.3f}, {:.3f}, {:.3f}, {:.3f}, {:.3f}, {:.3f}, {:.3f}]'.format(*theta))"
      ]
    },
    {
      "cell_type": "code",
      "execution_count": 32,
      "metadata": {
        "id": "XeSFGc1aPbFW"
      },
      "outputs": [],
      "source": [
        "def predict(theta, X):\n",
        "    \"\"\"\n",
        "    Predecir si la etiqueta es 0 o 1 mediante regresión logística aprendida.\n",
        "    Calcula las predicciones para X usando un umbral en 0.5 (es decir, si sigmoide (theta.T * x)> = 0.5, predice 1)\n",
        "\n",
        "    Parametros\n",
        "    ----------\n",
        "    theta : array_like\n",
        "        Parametros para regresion logistica. Un vecto de la forma (n+1, ).\n",
        "\n",
        "    X : array_like\n",
        "        Datos utilizados para el calculo de las predicciones.\n",
        "        La fila es el numero de los puntos para calcular las predicciones,\n",
        "        y las columnas con el numero de caracteristicas.\n",
        "\n",
        "    Devuelve\n",
        "    -------\n",
        "    p : array_like\n",
        "        Predicciones y 0 o 1 para cada fila en X.\n",
        "    \"\"\"\n",
        "    m = X.shape[0] # Numero de ejemplo de entrenamiento\n",
        "\n",
        "    p = np.zeros(m)\n",
        "\n",
        "    p = np.round(sigmoid(X.dot(theta.T)))\n",
        "    return p"
      ]
    },
    {
      "cell_type": "code",
      "execution_count": 34,
      "metadata": {
        "id": "FStZK071PhzR",
        "colab": {
          "base_uri": "https://localhost:8080/"
        },
        "outputId": "a847b85f-db49-4e99-c0dc-ee70e99f4749"
      },
      "outputs": [
        {
          "output_type": "stream",
          "name": "stdout",
          "text": [
            "Precisión de entrenamiento: 93.93 %\n",
            "Precisión esperada (aproximadamente): 89.00 %\n"
          ]
        }
      ],
      "source": [
        "#  Predice la probabilidad de ingreso para un estudiante con nota de 45 en el examen 1 y nota de 85 en el examen 2\n",
        "prob = sigmoid(np.dot([ 1, 1, 70, 1, 2, 1, 2, 2, 2, 2, 2, 2, 2, 1, 2, 2], theta))\n",
        "#print('Para un estudiante con notas de 45 y 85, se predice una probabilidad de admisión de: {:.3f}%'.format(prob))\n",
        "#print('Valor esperado: 0.775 +/- 0.002\\n')\n",
        "\n",
        "# Compute accuracy on our training set\n",
        "p = predict(theta, X)\n",
        "print('Precisión de entrenamiento: {:.2f} %'.format(np.mean(p == y) * 100))\n",
        "print('Precisión esperada (aproximadamente): 89.00 %')"
      ]
    }
  ],
  "metadata": {
    "colab": {
      "provenance": []
    },
    "kernelspec": {
      "display_name": "Python 3",
      "name": "python3"
    },
    "language_info": {
      "codemirror_mode": {
        "name": "ipython",
        "version": 3
      },
      "file_extension": ".py",
      "mimetype": "text/x-python",
      "name": "python",
      "nbconvert_exporter": "python",
      "pygments_lexer": "ipython3",
      "version": "3.11.4"
    }
  },
  "nbformat": 4,
  "nbformat_minor": 0
}