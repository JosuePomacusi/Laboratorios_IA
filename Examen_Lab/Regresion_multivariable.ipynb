{
  "nbformat": 4,
  "nbformat_minor": 0,
  "metadata": {
    "colab": {
      "provenance": []
    },
    "kernelspec": {
      "name": "python3",
      "display_name": "Python 3"
    },
    "language_info": {
      "name": "python"
    }
  },
  "cells": [
    {
      "cell_type": "code",
      "source": [
        "import torch\n",
        "import torch.nn as nn\n",
        "import torch.optim as optim\n",
        "import pandas as pd\n",
        "from sklearn.model_selection import train_test_split\n",
        "from sklearn.preprocessing import StandardScaler"
      ],
      "metadata": {
        "id": "bEpLeMYn0nO9"
      },
      "execution_count": null,
      "outputs": []
    },
    {
      "cell_type": "code",
      "source": [
        "# Cargar los datos desde el archivo CSV\n",
        "data = pd.read_csv('ford.csv')"
      ],
      "metadata": {
        "id": "WWXl_aFZ0nWw"
      },
      "execution_count": null,
      "outputs": []
    },
    {
      "cell_type": "code",
      "source": [
        "\n",
        "# Seleccionar las columnas relevantes para la regresión\n",
        "features = ['year', 'mileage', 'tax', 'mpg', 'engineSize']\n",
        "target = 'price'"
      ],
      "metadata": {
        "id": "zipjC5cd0nZN"
      },
      "execution_count": null,
      "outputs": []
    },
    {
      "cell_type": "code",
      "source": [
        "# Dividir los datos en características y objetivo\n",
        "X = data[features].values\n",
        "y = data[target].values\n",
        "\n",
        "# Escalar las características para facilitar el entrenamiento\n",
        "scaler = StandardScaler()\n",
        "X = scaler.fit_transform(X)\n",
        "\n",
        "# Dividir los datos en conjuntos de entrenamiento y prueba\n",
        "X_train, X_test, y_train, y_test = train_test_split(X, y, test_size=0.2, random_state=42)\n",
        "\n",
        "# Convertir los datos a tensores de PyTorch\n",
        "X_train = torch.tensor(X_train, dtype=torch.float32)\n",
        "y_train = torch.tensor(y_train, dtype=torch.float32)\n",
        "X_test = torch.tensor(X_test, dtype=torch.float32)\n",
        "y_test = torch.tensor(y_test, dtype=torch.float32)"
      ],
      "metadata": {
        "id": "V3s7Tlth0nbd"
      },
      "execution_count": null,
      "outputs": []
    },
    {
      "cell_type": "code",
      "source": [
        "# Definir el modelo del perceptrón\n",
        "class Perceptron(nn.Module):\n",
        "    def __init__(self, input_dim):\n",
        "        super(Perceptron, self).__init__()\n",
        "        self.fc = nn.Linear(input_dim, 1)\n",
        "\n",
        "    def forward(self, x):\n",
        "        x = self.fc(x)\n",
        "        return x\n",
        "\n",
        "# Crear una instancia del modelo\n",
        "input_dim = X_train.shape[1]\n",
        "model = Perceptron(input_dim)"
      ],
      "metadata": {
        "id": "chgRxU080ndk"
      },
      "execution_count": null,
      "outputs": []
    },
    {
      "cell_type": "code",
      "source": [
        "# Definir la función de pérdida y el optimizador\n",
        "criterion = nn.MSELoss()\n",
        "optimizer = optim.SGD(model.parameters(), lr=0.01)"
      ],
      "metadata": {
        "id": "qr4pwrEw0nf4"
      },
      "execution_count": null,
      "outputs": []
    },
    {
      "cell_type": "code",
      "source": [
        "# Entrenar el modelo\n",
        "num_epochs = 1000\n",
        "for epoch in range(num_epochs):\n",
        "    optimizer.zero_grad()\n",
        "    outputs = model(X_train)\n",
        "    loss = criterion(outputs, y_train.unsqueeze(1))\n",
        "    loss.backward()\n",
        "    optimizer.step()\n",
        "\n",
        "    if (epoch + 1) % 100 == 0:\n",
        "        print(f'Epoch {epoch+1}/{num_epochs}, Loss: {loss.item()}')"
      ],
      "metadata": {
        "colab": {
          "base_uri": "https://localhost:8080/"
        },
        "id": "Ceql9Vlf0niO",
        "outputId": "a0b4c66a-c9da-4cca-99d5-48db7ca5708b"
      },
      "execution_count": null,
      "outputs": [
        {
          "output_type": "stream",
          "name": "stdout",
          "text": [
            "Epoch 100/1000, Loss: 9277962.0\n",
            "Epoch 200/1000, Loss: 6239611.5\n",
            "Epoch 300/1000, Loss: 6155041.0\n",
            "Epoch 400/1000, Loss: 6146379.5\n",
            "Epoch 500/1000, Loss: 6144077.5\n",
            "Epoch 600/1000, Loss: 6143328.5\n",
            "Epoch 700/1000, Loss: 6143075.0\n",
            "Epoch 800/1000, Loss: 6142987.5\n",
            "Epoch 900/1000, Loss: 6142957.0\n",
            "Epoch 1000/1000, Loss: 6142946.5\n"
          ]
        }
      ]
    },
    {
      "cell_type": "code",
      "source": [
        "# Evaluar el modelo en el conjunto de prueba\n",
        "model.eval()\n",
        "with torch.no_grad():\n",
        "    outputs = model(X_test)\n",
        "    test_loss = criterion(outputs, y_test.unsqueeze(1))\n",
        "    print(f'Loss en el conjunto de prueba: {test_loss.item()}')"
      ],
      "metadata": {
        "colab": {
          "base_uri": "https://localhost:8080/"
        },
        "id": "igLdnfZT0nkm",
        "outputId": "ff53ee9f-0110-4474-d999-2ddfb1f44bf2"
      },
      "execution_count": null,
      "outputs": [
        {
          "output_type": "stream",
          "name": "stdout",
          "text": [
            "Loss en el conjunto de prueba: 6148346.5\n"
          ]
        }
      ]
    }
  ]
}