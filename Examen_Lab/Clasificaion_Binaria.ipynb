{
  "nbformat": 4,
  "nbformat_minor": 0,
  "metadata": {
    "colab": {
      "provenance": []
    },
    "kernelspec": {
      "name": "python3",
      "display_name": "Python 3"
    },
    "language_info": {
      "name": "python"
    }
  },
  "cells": [
    {
      "cell_type": "code",
      "source": [
        "import torch\n",
        "import torch.nn as nn\n",
        "import torch.optim as optim\n",
        "import pandas as pd\n",
        "import numpy as np\n",
        "from sklearn.preprocessing import LabelEncoder"
      ],
      "metadata": {
        "id": "bWzPmdBasEVW"
      },
      "execution_count": 1,
      "outputs": []
    },
    {
      "cell_type": "code",
      "source": [
        "# Cargar los datos del archivo CSV\n",
        "data = pd.read_csv('/content/survey lung cancer.csv')"
      ],
      "metadata": {
        "id": "_eGQ1c3DsES4"
      },
      "execution_count": 2,
      "outputs": []
    },
    {
      "cell_type": "code",
      "source": [
        "# Convertir las etiquetas de clase a valores numéricos\n",
        "data['LUNG_CANCER'] = data['LUNG_CANCER'].map({'YES': 1, 'NO': 0})"
      ],
      "metadata": {
        "id": "4SBVTusXsEQQ"
      },
      "execution_count": 3,
      "outputs": []
    },
    {
      "cell_type": "code",
      "source": [
        "# Eliminar las columnas de tipo objeto\n",
        "data = data.select_dtypes(exclude=['object'])"
      ],
      "metadata": {
        "id": "iMXwCNNesEN8"
      },
      "execution_count": 4,
      "outputs": []
    },
    {
      "cell_type": "code",
      "source": [
        "# Dividir los datos en características (X) y etiquetas (y)\n",
        "X = data.drop('LUNG_CANCER', axis=1).values\n",
        "y = data['LUNG_CANCER'].values\n",
        "\n",
        "# Convertir los datos a tensores de PyTorch\n",
        "X = torch.tensor(X, dtype=torch.float32)\n",
        "y = torch.tensor(y, dtype=torch.float32)"
      ],
      "metadata": {
        "id": "dMpKp99PsEJO"
      },
      "execution_count": 5,
      "outputs": []
    },
    {
      "cell_type": "code",
      "source": [
        "# Definir el modelo del perceptrón\n",
        "class Perceptron(nn.Module):\n",
        "    def __init__(self, input_size):\n",
        "        super(Perceptron, self).__init__()\n",
        "        self.fc = nn.Linear(input_size, 1)\n",
        "\n",
        "    def forward(self, x):\n",
        "        x = torch.sigmoid(self.fc(x))\n",
        "        return x\n",
        "\n",
        "# Instanciar el modelo del perceptrón\n",
        "input_size = X.shape[1]\n",
        "model = Perceptron(input_size)"
      ],
      "metadata": {
        "id": "Gy5nLHpKsEG2"
      },
      "execution_count": 6,
      "outputs": []
    },
    {
      "cell_type": "code",
      "source": [
        "# Definir la función de pérdida y el optimizador\n",
        "criterion = nn.BCELoss()\n",
        "optimizer = optim.SGD(model.parameters(), lr=0.01)"
      ],
      "metadata": {
        "id": "4whSIH8rsEEs"
      },
      "execution_count": 7,
      "outputs": []
    },
    {
      "cell_type": "code",
      "source": [
        "print(data)"
      ],
      "metadata": {
        "colab": {
          "base_uri": "https://localhost:8080/"
        },
        "id": "7fd5jMGmsECg",
        "outputId": "6ea1e55a-cd30-4812-d01e-13b712d5deb2"
      },
      "execution_count": 8,
      "outputs": [
        {
          "output_type": "stream",
          "name": "stdout",
          "text": [
            "     AGE  SMOKING  YELLOW_FINGERS  ANXIETY  PEER_PRESSURE  CHRONIC DISEASE  \\\n",
            "0     69        1               2        2              1                1   \n",
            "1     74        2               1        1              1                2   \n",
            "2     59        1               1        1              2                1   \n",
            "3     63        2               2        2              1                1   \n",
            "4     63        1               2        1              1                1   \n",
            "..   ...      ...             ...      ...            ...              ...   \n",
            "304   56        1               1        1              2                2   \n",
            "305   70        2               1        1              1                1   \n",
            "306   58        2               1        1              1                1   \n",
            "307   67        2               1        2              1                1   \n",
            "308   62        1               1        1              2                1   \n",
            "\n",
            "     FATIGUE   ALLERGY   WHEEZING  ALCOHOL CONSUMING  COUGHING  \\\n",
            "0           2         1         2                  2         2   \n",
            "1           2         2         1                  1         1   \n",
            "2           2         1         2                  1         2   \n",
            "3           1         1         1                  2         1   \n",
            "4           1         1         2                  1         2   \n",
            "..        ...       ...       ...                ...       ...   \n",
            "304         2         1         1                  2         2   \n",
            "305         2         2         2                  2         2   \n",
            "306         1         2         2                  2         2   \n",
            "307         2         2         1                  2         2   \n",
            "308         2         2         2                  2         1   \n",
            "\n",
            "     SHORTNESS OF BREATH  SWALLOWING DIFFICULTY  CHEST PAIN  LUNG_CANCER  \n",
            "0                      2                      2           2            1  \n",
            "1                      2                      2           2            1  \n",
            "2                      2                      1           2            0  \n",
            "3                      1                      2           2            0  \n",
            "4                      2                      1           1            0  \n",
            "..                   ...                    ...         ...          ...  \n",
            "304                    2                      2           1            1  \n",
            "305                    2                      1           2            1  \n",
            "306                    1                      1           2            1  \n",
            "307                    2                      1           2            1  \n",
            "308                    1                      2           1            1  \n",
            "\n",
            "[309 rows x 15 columns]\n"
          ]
        }
      ]
    },
    {
      "cell_type": "code",
      "source": [
        "# Entrenamiento del modelo\n",
        "num_epochs = 1000\n",
        "for epoch in range(num_epochs):\n",
        "    # Calcular las salidas del modelo\n",
        "    outputs = model(X)\n",
        "\n",
        "    # Calcular la pérdida\n",
        "    loss = criterion(outputs, y.view(-1, 1))\n",
        "\n",
        "    # Retropropagar y optimizar\n",
        "    optimizer.zero_grad()\n",
        "    loss.backward()\n",
        "    optimizer.step()\n",
        "\n",
        "    # Imprimir el progreso del entrenamiento\n",
        "    if (epoch+1) % 100 == 0:\n",
        "        print(f'Epoch [{epoch+1}/{num_epochs}], Loss: {loss.item():.4f}')"
      ],
      "metadata": {
        "colab": {
          "base_uri": "https://localhost:8080/"
        },
        "id": "IQO-MzkWsEAI",
        "outputId": "4c99c578-09e2-45ef-d889-19cf2a05a59d"
      },
      "execution_count": 9,
      "outputs": [
        {
          "output_type": "stream",
          "name": "stdout",
          "text": [
            "Epoch [100/1000], Loss: 0.4393\n",
            "Epoch [200/1000], Loss: 1.4632\n",
            "Epoch [300/1000], Loss: 1.4054\n",
            "Epoch [400/1000], Loss: 1.0194\n",
            "Epoch [500/1000], Loss: 0.3285\n",
            "Epoch [600/1000], Loss: 0.7214\n",
            "Epoch [700/1000], Loss: 0.6562\n",
            "Epoch [800/1000], Loss: 0.7231\n",
            "Epoch [900/1000], Loss: 1.6182\n",
            "Epoch [1000/1000], Loss: 0.7812\n"
          ]
        }
      ]
    },
    {
      "cell_type": "code",
      "source": [
        "fila_deseada = 1\n",
        "\n",
        "if fila_deseada < len(data):\n",
        "  fila_completa = data.iloc[fila_deseada].tolist()\n",
        "  print(fila_completa)\n",
        "else:\n",
        "  print(\"La fila no existe\")"
      ],
      "metadata": {
        "colab": {
          "base_uri": "https://localhost:8080/"
        },
        "id": "LHeNgq7BsD96",
        "outputId": "7abe9ba5-a304-41b0-fd78-b87330c629af"
      },
      "execution_count": 10,
      "outputs": [
        {
          "output_type": "stream",
          "name": "stdout",
          "text": [
            "[74, 2, 1, 1, 1, 2, 2, 2, 1, 1, 1, 2, 2, 2, 1]\n"
          ]
        }
      ]
    },
    {
      "cell_type": "code",
      "source": [
        "X_input = torch.tensor([74, 2, 1, 1, 1, 2, 2, 2, 1, 1, 1, 2, 2, 2], dtype=torch.float32)\n",
        "\n",
        "# Hacer la predicción\n",
        "model.eval()  # Activar el modo de evaluación\n",
        "with torch.no_grad():\n",
        "    y_pred = model(X_input)\n",
        "\n",
        "print(f'Prediccion: {y_pred.item()}')"
      ],
      "metadata": {
        "colab": {
          "base_uri": "https://localhost:8080/"
        },
        "id": "BP2nrZwNsD7u",
        "outputId": "4c99b3e9-6d99-440b-bd0b-540ff964e121"
      },
      "execution_count": 11,
      "outputs": [
        {
          "output_type": "stream",
          "name": "stdout",
          "text": [
            "Prediccion: 0.8377051949501038\n"
          ]
        }
      ]
    }
  ]
}