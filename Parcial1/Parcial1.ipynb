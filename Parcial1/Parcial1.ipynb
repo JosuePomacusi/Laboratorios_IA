{
  "nbformat": 4,
  "nbformat_minor": 0,
  "metadata": {
    "colab": {
      "provenance": []
    },
    "kernelspec": {
      "name": "python3",
      "display_name": "Python 3"
    },
    "language_info": {
      "name": "python"
    }
  },
  "cells": [
    {
      "cell_type": "code",
      "execution_count": 1,
      "metadata": {
        "id": "I8QqVT75MZrO"
      },
      "outputs": [],
      "source": [
        "# utilizado para manejos de directorios y rutas\n",
        "import os\n",
        "\n",
        "# Computacion vectorial y cientifica para python\n",
        "# Para realizar cálculos numéricos y operaciones vectoriales\n",
        "import numpy as np\n",
        "\n",
        "# Librerias para graficación (trazado de gráficos)\n",
        "from matplotlib import pyplot\n",
        "# Necesario para graficar superficies 3D\n",
        "from mpl_toolkits.mplot3d import Axes3D\n",
        "\n",
        "# Muestra las gráficas dentro del cuaderno\n",
        "%matplotlib inline"
      ]
    },
    {
      "cell_type": "code",
      "source": [
        "# importando pandas para el analisis de datos\n",
        "import pandas as pd\n",
        "# se utiliza para codificar variables categóricas en variables numéricas\n",
        "from sklearn.preprocessing import LabelEncoder\n",
        "\n",
        "#from datetime import datetime"
      ],
      "metadata": {
        "id": "rWn1ABnRM4lb"
      },
      "execution_count": 2,
      "outputs": []
    },
    {
      "cell_type": "code",
      "source": [
        "#Carga de dataset\n",
        "data = pd.read_csv('titanic.csv')"
      ],
      "metadata": {
        "id": "cZwlYmOkM68X"
      },
      "execution_count": 3,
      "outputs": []
    },
    {
      "cell_type": "code",
      "source": [
        "#Muestra los datos de la variable data\n",
        "print(type(data))"
      ],
      "metadata": {
        "colab": {
          "base_uri": "https://localhost:8080/"
        },
        "id": "FnXevG_UNOsr",
        "outputId": "e20b121e-7ed4-4ec5-b743-50387fcbbce5"
      },
      "execution_count": 4,
      "outputs": [
        {
          "output_type": "stream",
          "name": "stdout",
          "text": [
            "<class 'pandas.core.frame.DataFrame'>\n"
          ]
        }
      ]
    },
    {
      "cell_type": "code",
      "source": [
        "#Muestra el contenido de la variable data\n",
        "print(data)"
      ],
      "metadata": {
        "colab": {
          "base_uri": "https://localhost:8080/"
        },
        "id": "2nR1CX5SNR6m",
        "outputId": "ae2e30a2-a015-4d8c-d862-958d19075576"
      },
      "execution_count": 5,
      "outputs": [
        {
          "output_type": "stream",
          "name": "stdout",
          "text": [
            "     PassengerId  Survived  Pclass  \\\n",
            "0            892         0       3   \n",
            "1            893         1       3   \n",
            "2            894         0       2   \n",
            "3            895         0       3   \n",
            "4            896         1       3   \n",
            "..           ...       ...     ...   \n",
            "413         1305         0       3   \n",
            "414         1306         1       1   \n",
            "415         1307         0       3   \n",
            "416         1308         0       3   \n",
            "417         1309         0       3   \n",
            "\n",
            "                                             Name     Sex   Age  SibSp  Parch  \\\n",
            "0                                Kelly, Mr. James    male  34.5      0      0   \n",
            "1                Wilkes, Mrs. James (Ellen Needs)  female  47.0      1      0   \n",
            "2                       Myles, Mr. Thomas Francis    male  62.0      0      0   \n",
            "3                                Wirz, Mr. Albert    male  27.0      0      0   \n",
            "4    Hirvonen, Mrs. Alexander (Helga E Lindqvist)  female  22.0      1      1   \n",
            "..                                            ...     ...   ...    ...    ...   \n",
            "413                            Spector, Mr. Woolf    male   NaN      0      0   \n",
            "414                  Oliva y Ocana, Dona. Fermina  female  39.0      0      0   \n",
            "415                  Saether, Mr. Simon Sivertsen    male  38.5      0      0   \n",
            "416                           Ware, Mr. Frederick    male   NaN      0      0   \n",
            "417                      Peter, Master. Michael J    male   NaN      1      1   \n",
            "\n",
            "                 Ticket      Fare Cabin Embarked  \n",
            "0                330911    7.8292   NaN        Q  \n",
            "1                363272    7.0000   NaN        S  \n",
            "2                240276    9.6875   NaN        Q  \n",
            "3                315154    8.6625   NaN        S  \n",
            "4               3101298   12.2875   NaN        S  \n",
            "..                  ...       ...   ...      ...  \n",
            "413           A.5. 3236    8.0500   NaN        S  \n",
            "414            PC 17758  108.9000  C105        C  \n",
            "415  SOTON/O.Q. 3101262    7.2500   NaN        S  \n",
            "416              359309    8.0500   NaN        S  \n",
            "417                2668   22.3583   NaN        C  \n",
            "\n",
            "[418 rows x 12 columns]\n"
          ]
        }
      ]
    },
    {
      "cell_type": "code",
      "source": [
        "data.info()"
      ],
      "metadata": {
        "colab": {
          "base_uri": "https://localhost:8080/"
        },
        "id": "24IqbXOyNVda",
        "outputId": "57c1f649-19d4-4df2-ded1-77258a36c526"
      },
      "execution_count": 6,
      "outputs": [
        {
          "output_type": "stream",
          "name": "stdout",
          "text": [
            "<class 'pandas.core.frame.DataFrame'>\n",
            "RangeIndex: 418 entries, 0 to 417\n",
            "Data columns (total 12 columns):\n",
            " #   Column       Non-Null Count  Dtype  \n",
            "---  ------       --------------  -----  \n",
            " 0   PassengerId  418 non-null    int64  \n",
            " 1   Survived     418 non-null    int64  \n",
            " 2   Pclass       418 non-null    int64  \n",
            " 3   Name         418 non-null    object \n",
            " 4   Sex          418 non-null    object \n",
            " 5   Age          332 non-null    float64\n",
            " 6   SibSp        418 non-null    int64  \n",
            " 7   Parch        418 non-null    int64  \n",
            " 8   Ticket       418 non-null    object \n",
            " 9   Fare         417 non-null    float64\n",
            " 10  Cabin        91 non-null     object \n",
            " 11  Embarked     418 non-null    object \n",
            "dtypes: float64(2), int64(5), object(5)\n",
            "memory usage: 39.3+ KB\n"
          ]
        }
      ]
    },
    {
      "cell_type": "code",
      "source": [
        "#variables categoricas\n",
        "# con select_dtypes seleccionamos las columnas de data de tipo object\n",
        "columnas_categoricas = data.select_dtypes(include=['object']).columns"
      ],
      "metadata": {
        "id": "jE8dX63bNe-T"
      },
      "execution_count": 7,
      "outputs": []
    },
    {
      "cell_type": "code",
      "source": [
        "#Mostramos las columnas de tipo Object\n",
        "print(columnas_categoricas)"
      ],
      "metadata": {
        "colab": {
          "base_uri": "https://localhost:8080/"
        },
        "id": "Kw_QgtJSNhjg",
        "outputId": "5625fc3f-bac2-4a9b-e910-ca726f363ebe"
      },
      "execution_count": 8,
      "outputs": [
        {
          "output_type": "stream",
          "name": "stdout",
          "text": [
            "Index(['Name', 'Sex', 'Ticket', 'Cabin', 'Embarked'], dtype='object')\n"
          ]
        }
      ]
    },
    {
      "cell_type": "code",
      "source": [
        "#Procesamiento de frases o palabras\n",
        "for columna in columnas_categoricas:\n",
        "  # se crea una instancia (se utiliza para convetir categoricos a numericos)\n",
        "  #instanciando\n",
        "  le = LabelEncoder()\n",
        "  # cambia de categoricos a numericos unico\n",
        "  data[columna] = le.fit_transform(data[columna])"
      ],
      "metadata": {
        "id": "VdhOrdy-Nl9v"
      },
      "execution_count": 9,
      "outputs": []
    },
    {
      "cell_type": "code",
      "source": [
        "#resultado\n",
        "print(data)"
      ],
      "metadata": {
        "colab": {
          "base_uri": "https://localhost:8080/"
        },
        "id": "jEjyuCTENpKO",
        "outputId": "0866e23b-6adc-4159-de7c-6e96f604ac50"
      },
      "execution_count": 10,
      "outputs": [
        {
          "output_type": "stream",
          "name": "stdout",
          "text": [
            "     PassengerId  Survived  Pclass  Name  Sex   Age  SibSp  Parch  Ticket  \\\n",
            "0            892         0       3   206    1  34.5      0      0     152   \n",
            "1            893         1       3   403    0  47.0      1      0     221   \n",
            "2            894         0       2   269    1  62.0      0      0      73   \n",
            "3            895         0       3   408    1  27.0      0      0     147   \n",
            "4            896         1       3   178    0  22.0      1      1     138   \n",
            "..           ...       ...     ...   ...  ...   ...    ...    ...     ...   \n",
            "413         1305         0       3   353    1   NaN      0      0     267   \n",
            "414         1306         1       1   283    0  39.0      0      0     324   \n",
            "415         1307         0       3   332    1  38.5      0      0     346   \n",
            "416         1308         0       3   384    1   NaN      0      0     220   \n",
            "417         1309         0       3   302    1   NaN      1      1     105   \n",
            "\n",
            "         Fare  Cabin  Embarked  \n",
            "0      7.8292     76         1  \n",
            "1      7.0000     76         2  \n",
            "2      9.6875     76         1  \n",
            "3      8.6625     76         2  \n",
            "4     12.2875     76         2  \n",
            "..        ...    ...       ...  \n",
            "413    8.0500     76         2  \n",
            "414  108.9000     22         0  \n",
            "415    7.2500     76         2  \n",
            "416    8.0500     76         2  \n",
            "417   22.3583     76         0  \n",
            "\n",
            "[418 rows x 12 columns]\n"
          ]
        }
      ]
    },
    {
      "cell_type": "code",
      "source": [
        "data.info()"
      ],
      "metadata": {
        "colab": {
          "base_uri": "https://localhost:8080/"
        },
        "id": "xyzU-9_9Nv4S",
        "outputId": "16c0040f-5af7-43b4-e89c-4209b78213b3"
      },
      "execution_count": 11,
      "outputs": [
        {
          "output_type": "stream",
          "name": "stdout",
          "text": [
            "<class 'pandas.core.frame.DataFrame'>\n",
            "RangeIndex: 418 entries, 0 to 417\n",
            "Data columns (total 12 columns):\n",
            " #   Column       Non-Null Count  Dtype  \n",
            "---  ------       --------------  -----  \n",
            " 0   PassengerId  418 non-null    int64  \n",
            " 1   Survived     418 non-null    int64  \n",
            " 2   Pclass       418 non-null    int64  \n",
            " 3   Name         418 non-null    int64  \n",
            " 4   Sex          418 non-null    int64  \n",
            " 5   Age          332 non-null    float64\n",
            " 6   SibSp        418 non-null    int64  \n",
            " 7   Parch        418 non-null    int64  \n",
            " 8   Ticket       418 non-null    int64  \n",
            " 9   Fare         417 non-null    float64\n",
            " 10  Cabin        418 non-null    int64  \n",
            " 11  Embarked     418 non-null    int64  \n",
            "dtypes: float64(2), int64(10)\n",
            "memory usage: 39.3 KB\n"
          ]
        }
      ]
    },
    {
      "cell_type": "code",
      "source": [
        "#llenar datos vacios\n",
        "columnas_especificas = [\"Age\",\"Fare\"]\n",
        "# se calcula la media de las columnas seleccionadas\n",
        "media_columnas = data[columnas_especificas].mean()\n",
        "# fill == llenar\n",
        "data[columnas_especificas] = data[columnas_especificas].fillna(media_columnas)"
      ],
      "metadata": {
        "id": "yMYHeh4wQst1"
      },
      "execution_count": 12,
      "outputs": []
    },
    {
      "cell_type": "code",
      "source": [
        "data.info()"
      ],
      "metadata": {
        "colab": {
          "base_uri": "https://localhost:8080/"
        },
        "id": "MqKu6IDaRIc-",
        "outputId": "d8c6d43a-d792-4c41-bb90-7ad9774bcde1"
      },
      "execution_count": 13,
      "outputs": [
        {
          "output_type": "stream",
          "name": "stdout",
          "text": [
            "<class 'pandas.core.frame.DataFrame'>\n",
            "RangeIndex: 418 entries, 0 to 417\n",
            "Data columns (total 12 columns):\n",
            " #   Column       Non-Null Count  Dtype  \n",
            "---  ------       --------------  -----  \n",
            " 0   PassengerId  418 non-null    int64  \n",
            " 1   Survived     418 non-null    int64  \n",
            " 2   Pclass       418 non-null    int64  \n",
            " 3   Name         418 non-null    int64  \n",
            " 4   Sex          418 non-null    int64  \n",
            " 5   Age          418 non-null    float64\n",
            " 6   SibSp        418 non-null    int64  \n",
            " 7   Parch        418 non-null    int64  \n",
            " 8   Ticket       418 non-null    int64  \n",
            " 9   Fare         418 non-null    float64\n",
            " 10  Cabin        418 non-null    int64  \n",
            " 11  Embarked     418 non-null    int64  \n",
            "dtypes: float64(2), int64(10)\n",
            "memory usage: 39.3 KB\n"
          ]
        }
      ]
    },
    {
      "cell_type": "code",
      "source": [
        "# Lectura de Datos\n",
        "# x me muestra las primeras 12 columnas\n",
        "columnas_seleccionadas = list(range(0, 1)) + list(range(2, 12))\n",
        "# iloc accede a los datos\n",
        "X = data.iloc[:, columnas_seleccionadas]\n",
        "y = data.iloc[:, 1]\n",
        "m = y.size\n",
        "#Aca tomamos la tabla survived para precedir si el pasajero sobrevive a la catastrofe confome a sus caracteristicas"
      ],
      "metadata": {
        "id": "eyV1tdVjN1J8"
      },
      "execution_count": 14,
      "outputs": []
    },
    {
      "cell_type": "code",
      "source": [
        "#Mostramos las X's\n",
        "print(X)\n",
        "print('*'*20)\n",
        "#Mostramos las Y's\n",
        "print(y)\n",
        "print('*'*20)\n",
        "#Mostramos la cantidad de Filas\n",
        "print(m)"
      ],
      "metadata": {
        "colab": {
          "base_uri": "https://localhost:8080/"
        },
        "id": "UR0vjQJ_N9p4",
        "outputId": "fd6bfada-35b6-4fd0-dafc-025b742ce0a9"
      },
      "execution_count": 15,
      "outputs": [
        {
          "output_type": "stream",
          "name": "stdout",
          "text": [
            "     PassengerId  Pclass  Name  Sex       Age  SibSp  Parch  Ticket      Fare  \\\n",
            "0            892       3   206    1  34.50000      0      0     152    7.8292   \n",
            "1            893       3   403    0  47.00000      1      0     221    7.0000   \n",
            "2            894       2   269    1  62.00000      0      0      73    9.6875   \n",
            "3            895       3   408    1  27.00000      0      0     147    8.6625   \n",
            "4            896       3   178    0  22.00000      1      1     138   12.2875   \n",
            "..           ...     ...   ...  ...       ...    ...    ...     ...       ...   \n",
            "413         1305       3   353    1  30.27259      0      0     267    8.0500   \n",
            "414         1306       1   283    0  39.00000      0      0     324  108.9000   \n",
            "415         1307       3   332    1  38.50000      0      0     346    7.2500   \n",
            "416         1308       3   384    1  30.27259      0      0     220    8.0500   \n",
            "417         1309       3   302    1  30.27259      1      1     105   22.3583   \n",
            "\n",
            "     Cabin  Embarked  \n",
            "0       76         1  \n",
            "1       76         2  \n",
            "2       76         1  \n",
            "3       76         2  \n",
            "4       76         2  \n",
            "..     ...       ...  \n",
            "413     76         2  \n",
            "414     22         0  \n",
            "415     76         2  \n",
            "416     76         2  \n",
            "417     76         0  \n",
            "\n",
            "[418 rows x 11 columns]\n",
            "********************\n",
            "0      0\n",
            "1      1\n",
            "2      0\n",
            "3      0\n",
            "4      1\n",
            "      ..\n",
            "413    0\n",
            "414    1\n",
            "415    0\n",
            "416    0\n",
            "417    0\n",
            "Name: Survived, Length: 418, dtype: int64\n",
            "********************\n",
            "418\n"
          ]
        }
      ]
    },
    {
      "cell_type": "code",
      "source": [
        "def  featureNormalize(X):\n",
        "    # Se crea una copia del conjunto de datos X para evitar modificar los datos originales.\n",
        "    X_norm = X.copy()\n",
        "    # se crea un arreglo de 0 para almacenar la media y desviacion estandar\n",
        "    mu = np.zeros(X.shape[1])\n",
        "    sigma = np.zeros(X.shape[1])\n",
        "\n",
        "    # media\n",
        "    mu = np.mean(X, axis = 0)\n",
        "    # desviacion estandar\n",
        "    sigma = np.std(X, axis = 0)\n",
        "    X_norm = (X - mu) / sigma\n",
        "\n",
        "    return X_norm, mu, sigma"
      ],
      "metadata": {
        "id": "8gz-wYu5OB9z"
      },
      "execution_count": 16,
      "outputs": []
    },
    {
      "cell_type": "code",
      "source": [
        "# llama featureNormalize con los datos cargados\n",
        "X_norm, mu, sigma = featureNormalize(X)\n",
        "\n",
        "print(X)\n",
        "print('*'*20)\n",
        "print('Media calculada:', mu)\n",
        "print('*'*20)\n",
        "print('Desviación estandar calculada:', sigma)\n",
        "print('*'*20)\n",
        "print(X_norm)"
      ],
      "metadata": {
        "colab": {
          "base_uri": "https://localhost:8080/"
        },
        "id": "yNgUZMVvOFV8",
        "outputId": "e0c7343a-0fbf-4574-f618-5d3bd41ee9ea"
      },
      "execution_count": 17,
      "outputs": [
        {
          "output_type": "stream",
          "name": "stdout",
          "text": [
            "     PassengerId  Pclass  Name  Sex       Age  SibSp  Parch  Ticket      Fare  \\\n",
            "0            892       3   206    1  34.50000      0      0     152    7.8292   \n",
            "1            893       3   403    0  47.00000      1      0     221    7.0000   \n",
            "2            894       2   269    1  62.00000      0      0      73    9.6875   \n",
            "3            895       3   408    1  27.00000      0      0     147    8.6625   \n",
            "4            896       3   178    0  22.00000      1      1     138   12.2875   \n",
            "..           ...     ...   ...  ...       ...    ...    ...     ...       ...   \n",
            "413         1305       3   353    1  30.27259      0      0     267    8.0500   \n",
            "414         1306       1   283    0  39.00000      0      0     324  108.9000   \n",
            "415         1307       3   332    1  38.50000      0      0     346    7.2500   \n",
            "416         1308       3   384    1  30.27259      0      0     220    8.0500   \n",
            "417         1309       3   302    1  30.27259      1      1     105   22.3583   \n",
            "\n",
            "     Cabin  Embarked  \n",
            "0       76         1  \n",
            "1       76         2  \n",
            "2       76         1  \n",
            "3       76         2  \n",
            "4       76         2  \n",
            "..     ...       ...  \n",
            "413     76         2  \n",
            "414     22         0  \n",
            "415     76         2  \n",
            "416     76         2  \n",
            "417     76         0  \n",
            "\n",
            "[418 rows x 11 columns]\n",
            "********************\n",
            "Media calculada: PassengerId    1100.500000\n",
            "Pclass            2.265550\n",
            "Name            208.500000\n",
            "Sex               0.636364\n",
            "Age              30.272590\n",
            "SibSp             0.447368\n",
            "Parch             0.392344\n",
            "Ticket          180.944976\n",
            "Fare             35.627188\n",
            "Cabin            67.437799\n",
            "Embarked          1.401914\n",
            "dtype: float64\n",
            "********************\n",
            "Desviación estandar calculada: PassengerId    120.665861\n",
            "Pclass           0.840830\n",
            "Name           120.665861\n",
            "Sex              0.481046\n",
            "Age             12.619412\n",
            "SibSp            0.895686\n",
            "Parch            0.980254\n",
            "Ticket         107.405057\n",
            "Fare            55.773666\n",
            "Cabin           19.068554\n",
            "Embarked         0.853474\n",
            "dtype: float64\n",
            "********************\n",
            "     PassengerId    Pclass      Name       Sex       Age     SibSp     Parch  \\\n",
            "0      -1.727912  0.873482 -0.020718  0.755929  0.334993 -0.499470 -0.400248   \n",
            "1      -1.719625  0.873482  1.611889 -1.322876  1.325530  0.616992 -0.400248   \n",
            "2      -1.711337 -0.315819  0.501385  0.755929  2.514175 -0.499470 -0.400248   \n",
            "3      -1.703050  0.873482  1.653326  0.755929 -0.259330 -0.499470 -0.400248   \n",
            "4      -1.694763  0.873482 -0.252764 -1.322876 -0.655545  0.616992  0.619896   \n",
            "..           ...       ...       ...       ...       ...       ...       ...   \n",
            "413     1.694763  0.873482  1.197522  0.755929  0.000000 -0.499470 -0.400248   \n",
            "414     1.703050 -1.505120  0.617407 -1.322876  0.691586 -0.499470 -0.400248   \n",
            "415     1.711337  0.873482  1.023487  0.755929  0.651965 -0.499470 -0.400248   \n",
            "416     1.719625  0.873482  1.454430  0.755929  0.000000 -0.499470 -0.400248   \n",
            "417     1.727912  0.873482  0.774867  0.755929  0.000000  0.616992  0.619896   \n",
            "\n",
            "       Ticket      Fare     Cabin  Embarked  \n",
            "0   -0.269494 -0.498407  0.449022 -0.470915  \n",
            "1    0.372934 -0.513274  0.449022  0.700767  \n",
            "2   -1.005027 -0.465088  0.449022 -0.470915  \n",
            "3   -0.316046 -0.483466  0.449022  0.700767  \n",
            "4   -0.399841 -0.418471  0.449022  0.700767  \n",
            "..        ...       ...       ...       ...  \n",
            "413  0.801219 -0.494448  0.449022  0.700767  \n",
            "414  1.331921  1.313753 -2.382865 -1.642598  \n",
            "415  1.536753 -0.508792  0.449022  0.700767  \n",
            "416  0.363624 -0.494448  0.449022  0.700767  \n",
            "417 -0.707089 -0.237906  0.449022 -1.642598  \n",
            "\n",
            "[418 rows x 11 columns]\n"
          ]
        }
      ]
    },
    {
      "cell_type": "code",
      "source": [
        "# Añade el termino de interseccion a X\n",
        "# (Columna de unos para X0)\n",
        "# np.ones(m, numero de columnas)\n",
        "# m numero de filas == ejemplos\n",
        "# n = numero de columnas\n",
        "X = np.concatenate([np.ones((m, 1)), X_norm], axis=1)"
      ],
      "metadata": {
        "id": "Eio687sKOHH8"
      },
      "execution_count": 18,
      "outputs": []
    },
    {
      "cell_type": "code",
      "source": [
        "print(X)"
      ],
      "metadata": {
        "colab": {
          "base_uri": "https://localhost:8080/"
        },
        "id": "fAYEKPPeOKLn",
        "outputId": "dceddf36-b5db-4b47-badd-7321a19ab3b9"
      },
      "execution_count": 19,
      "outputs": [
        {
          "output_type": "stream",
          "name": "stdout",
          "text": [
            "[[ 1.         -1.72791209  0.87348191 ... -0.49840706  0.44902203\n",
            "  -0.47091535]\n",
            " [ 1.         -1.71962474  0.87348191 ... -0.51327429  0.44902203\n",
            "   0.70076689]\n",
            " [ 1.         -1.71133739 -0.31581919 ... -0.46508846  0.44902203\n",
            "  -0.47091535]\n",
            " ...\n",
            " [ 1.          1.71133739  0.87348191 ... -0.50879189  0.44902203\n",
            "   0.70076689]\n",
            " [ 1.          1.71962474  0.87348191 ... -0.4944482   0.44902203\n",
            "   0.70076689]\n",
            " [ 1.          1.72791209  0.87348191 ... -0.23790598  0.44902203\n",
            "  -1.64259759]]\n"
          ]
        }
      ]
    },
    {
      "cell_type": "code",
      "source": [
        "def computeCostMulti(X, y, theta):\n",
        "    # Esta función de costo se utiliza para evaluar qué tan bien el modelo se ajusta a los datos de entrenamiento\n",
        "    # Inicializa algunos valores utiles\n",
        "    # shape == devuelve el tamaño de la primera dimensión del arreglo\n",
        "    m = y.shape[0] # numero de ejemplos de entrenamiento\n",
        "\n",
        "    # valor del costo\n",
        "    J = 0\n",
        "\n",
        "    # Se calcula la hipótesis\n",
        "    # dot == multiplicacion de matrices\n",
        "    h = np.dot(X, theta)\n",
        "    # θ₀ * x₀ + θ₁ * x₁ + θ₂ * x₂ + ... + θₙ * xₙ\n",
        "    # square == elevado\n",
        "    J = (1/(2 * m)) * np.sum(np.square(np.dot(X, theta) - y))\n",
        "\n",
        "    return J"
      ],
      "metadata": {
        "id": "tXZ1acMTON6K"
      },
      "execution_count": 20,
      "outputs": []
    },
    {
      "cell_type": "code",
      "source": [
        "def gradientDescentMulti(X, y, theta, alpha, num_iters):\n",
        "    #Utilizado para encontrar los parámetros óptimos de un modelo de regresión lineal\n",
        "    # Inicializa algunos valores\n",
        "    m = y.shape[0] # numero de ejemplos de entrenamiento\n",
        "\n",
        "    # realiza una copia de theta, el cual será actualizada por el descenso por el gradiente\n",
        "    theta = theta.copy()\n",
        "\n",
        "    J_history = []\n",
        "\n",
        "    for i in range(num_iters):\n",
        "        theta = theta - (alpha / m) * (np.dot(X, theta) - y).dot(X)\n",
        "        J_history.append(computeCostMulti(X, y, theta))\n",
        "\n",
        "    return theta, J_history"
      ],
      "metadata": {
        "id": "OrULnYBUOQng"
      },
      "execution_count": 21,
      "outputs": []
    },
    {
      "cell_type": "code",
      "source": [
        "#Mostramos la fila(m) dee la que queremos ver sus valores\n",
        "fila_deseada = 120\n",
        "\n",
        "if fila_deseada < len(data):\n",
        "  fila_completa = data.iloc[fila_deseada].tolist()\n",
        "  print(fila_completa)\n",
        "else:\n",
        "  print(\"La fila no existe\")"
      ],
      "metadata": {
        "colab": {
          "base_uri": "https://localhost:8080/"
        },
        "id": "Z47wHDIAOV7x",
        "outputId": "bec3fb90-7bb3-4669-a6bd-f8a258a3cf19"
      },
      "execution_count": 22,
      "outputs": [
        {
          "output_type": "stream",
          "name": "stdout",
          "text": [
            "[1012.0, 1.0, 2.0, 390.0, 0.0, 12.0, 0.0, 0.0, 286.0, 15.75, 76.0, 2.0]\n"
          ]
        }
      ]
    },
    {
      "cell_type": "code",
      "source": [
        "# Elegir algun valor para alpha (probar varias alternativas)\n",
        "alpha = 0.001\n",
        "num_iters = 5000\n",
        "\n",
        "# inicializa theta y ejecuta el descenso por el gradiente\n",
        "theta = np.zeros(12)\n",
        "theta, J_history = gradientDescentMulti(X, y, theta, alpha, num_iters)\n",
        "\n",
        "# Grafica la convergencia del costo\n",
        "pyplot.plot(np.arange(len(J_history)), J_history, lw=2)\n",
        "pyplot.xlabel('Numero de iteraciones')\n",
        "pyplot.ylabel('Costo J')\n",
        "\n",
        "# Muestra los resultados del descenso por el gradiente\n",
        "print('theta calculado por el descenso por el gradiente: {:s}'.format(str(theta)))\n",
        "\n",
        "# Estimar el precio para un smart watch con distintas caracteristicas\n",
        "X_array = [1, 1012.0, 2.0, 390.0, 0.0, 12.0, 0.0, 0.0, 286.0, 15.75, 76.0, 2.0]\n",
        "X_array[1:12] = (X_array[1:12] - mu) / sigma\n",
        "price = np.dot(X_array, theta)   # Se debe cambiar esto\n",
        "\n",
        "print('El valor predecido es (usando el descenso por el gradiente): {:.4f}'.format(price))"
      ],
      "metadata": {
        "colab": {
          "base_uri": "https://localhost:8080/",
          "height": 518
        },
        "id": "C4Ihw9jaOrSA",
        "outputId": "0e27b4ea-4271-4540-f7cb-264fd22c1834"
      },
      "execution_count": 23,
      "outputs": [
        {
          "output_type": "stream",
          "name": "stdout",
          "text": [
            "theta calculado por el descenso por el gradiente: [ 3.61192323e-01 -6.31505809e-04 -1.29715221e-03 -1.44848905e-03\n",
            " -4.75313098e-01 -2.56235289e-03 -2.71679357e-04  1.70830811e-03\n",
            "  1.00615493e-03  2.12429267e-03  4.26095699e-04 -1.15550789e-03]\n",
            "El valor predecido es (usando el descenso por el gradiente): 0.9914\n"
          ]
        },
        {
          "output_type": "display_data",
          "data": {
            "text/plain": [
              "<Figure size 640x480 with 1 Axes>"
            ],
            "image/png": "[encoded data removed]"
          },
          "metadata": {}
        }
      ]
    },
    {
      "cell_type": "code",
      "source": [
        "print(data)"
      ],
      "metadata": {
        "colab": {
          "base_uri": "https://localhost:8080/"
        },
        "id": "kM-62s9VS0_y",
        "outputId": "5d4f43c2-a75f-404b-fcb3-a59f6fcf330c"
      },
      "execution_count": 24,
      "outputs": [
        {
          "output_type": "stream",
          "name": "stdout",
          "text": [
            "     PassengerId  Survived  Pclass  Name  Sex       Age  SibSp  Parch  Ticket  \\\n",
            "0            892         0       3   206    1  34.50000      0      0     152   \n",
            "1            893         1       3   403    0  47.00000      1      0     221   \n",
            "2            894         0       2   269    1  62.00000      0      0      73   \n",
            "3            895         0       3   408    1  27.00000      0      0     147   \n",
            "4            896         1       3   178    0  22.00000      1      1     138   \n",
            "..           ...       ...     ...   ...  ...       ...    ...    ...     ...   \n",
            "413         1305         0       3   353    1  30.27259      0      0     267   \n",
            "414         1306         1       1   283    0  39.00000      0      0     324   \n",
            "415         1307         0       3   332    1  38.50000      0      0     346   \n",
            "416         1308         0       3   384    1  30.27259      0      0     220   \n",
            "417         1309         0       3   302    1  30.27259      1      1     105   \n",
            "\n",
            "         Fare  Cabin  Embarked  \n",
            "0      7.8292     76         1  \n",
            "1      7.0000     76         2  \n",
            "2      9.6875     76         1  \n",
            "3      8.6625     76         2  \n",
            "4     12.2875     76         2  \n",
            "..        ...    ...       ...  \n",
            "413    8.0500     76         2  \n",
            "414  108.9000     22         0  \n",
            "415    7.2500     76         2  \n",
            "416    8.0500     76         2  \n",
            "417   22.3583     76         0  \n",
            "\n",
            "[418 rows x 12 columns]\n"
          ]
        }
      ]
    },
    {
      "cell_type": "code",
      "source": [
        "# Lectura de Datos\n",
        "# iloc accede a los datos\n",
        "# x me muestra las primeras 12 columnas\n",
        "columnas_seleccionadas = list(range(0, 1)) + list(range(2, 12))\n",
        "X = data.iloc[:, columnas_seleccionadas]\n",
        "y = data.iloc[:, 1]\n",
        "m = y.size"
      ],
      "metadata": {
        "id": "mC0aYmgGS8b4"
      },
      "execution_count": 25,
      "outputs": []
    },
    {
      "cell_type": "code",
      "source": [
        "X = np.concatenate([np.ones((m, 1)), X], axis=1)"
      ],
      "metadata": {
        "id": "y8ptM9NCTAnK"
      },
      "execution_count": 26,
      "outputs": []
    },
    {
      "cell_type": "code",
      "source": [
        "# importante que para usar m>n, evitar datos redundantes, no se normaliza\n",
        "def normalEqn(X, y):\n",
        "\n",
        "    theta = np.zeros(X.shape[1])\n",
        "\n",
        "    theta = np.dot(np.dot(np.linalg.inv(np.dot(X.T,X)),X.T),y)\n",
        "\n",
        "    return theta"
      ],
      "metadata": {
        "id": "OvQN1fn4TFde"
      },
      "execution_count": 27,
      "outputs": []
    },
    {
      "cell_type": "code",
      "source": [
        "# Calcula los parametros con la ecuación de la normal\n",
        "theta = normalEqn(X, y);\n",
        "\n",
        "# Muestra los resultados optenidos a partir de la aplicación de la ecuación de la normal\n",
        "print('Theta calculado a partir de la ecuación de la normal: {:s}'.format(str(theta)));\n",
        "\n",
        "# Estimar el número total de fumadores con distintas caracteristicas\n",
        "\n",
        "X_array = [1, 1012.0, 2.0, 390.0, 0.0, 12.0, 0.0, 0.0, 286.0, 15.75, 76.0, 2.0]\n",
        "price = np.dot(X_array, theta)\n",
        "\n",
        "print('El valor predecido sobre la supervivencia de un pasajero es (usando la ecuación de la normal): {:.0f}'.format(price))"
      ],
      "metadata": {
        "colab": {
          "base_uri": "https://localhost:8080/"
        },
        "id": "boQd3agcTO6R",
        "outputId": "ed6e0348-ad24-45d9-fd21-ab282abddf6d"
      },
      "execution_count": 28,
      "outputs": [
        {
          "output_type": "stream",
          "name": "stdout",
          "text": [
            "Theta calculado a partir de la ecuación de la normal: [ 1.00000000e+00  1.60461922e-17  1.45716772e-15  2.59530895e-18\n",
            " -1.00000000e+00  1.80628082e-16  2.04697370e-16 -4.54497551e-16\n",
            "  5.69206141e-19  9.10729825e-18  4.23923049e-17  9.54097912e-17]\n",
            "El valor predecido sobre la supervivencia de un pasajero es (usando la ecuación de la normal): 1\n"
          ]
        }
      ]
    }
  ]
}