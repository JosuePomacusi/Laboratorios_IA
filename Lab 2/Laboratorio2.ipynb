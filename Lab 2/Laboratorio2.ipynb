{
  "nbformat": 4,
  "nbformat_minor": 0,
  "metadata": {
    "colab": {
      "provenance": []
    },
    "kernelspec": {
      "name": "python3",
      "display_name": "Python 3"
    },
    "language_info": {
      "name": "python"
    }
  },
  "cells": [
    {
      "cell_type": "code",
      "execution_count": 25,
      "metadata": {
        "id": "wm8WHB9K2_fy"
      },
      "outputs": [],
      "source": [
        "# utilizado para manejos de directorios y rutas\n",
        "import os\n",
        "\n",
        "# Computacion vectorial y cientifica para python\n",
        "import numpy as np\n",
        "\n",
        "# Librerias para graficación (trazado de gráficos)\n",
        "from matplotlib import pyplot\n",
        "from mpl_toolkits.mplot3d import Axes3D  # Necesario para graficar superficies 3D\n",
        "\n",
        "# llama a matplotlib a embeber graficas dentro de los cuadernillos\n",
        "# grafica dentro del cuardernillo\n",
        "%matplotlib inline"
      ]
    },
    {
      "cell_type": "code",
      "source": [
        "import pandas as pd\n",
        "# es para cambiar los datos categorizados a numericos\n",
        "from sklearn.preprocessing import LabelEncoder\n",
        "#from datetime import datetime"
      ],
      "metadata": {
        "id": "JKs9LTGt3puZ"
      },
      "execution_count": 26,
      "outputs": []
    },
    {
      "cell_type": "code",
      "source": [
        "#Carga de dataset\n",
        "data = pd.read_csv('/content/wfp_food_prices_ind.csv')"
      ],
      "metadata": {
        "id": "zV7WvVkZ3s4S"
      },
      "execution_count": 27,
      "outputs": []
    },
    {
      "cell_type": "code",
      "source": [
        "print(data)"
      ],
      "metadata": {
        "colab": {
          "base_uri": "https://localhost:8080/"
        },
        "id": "JD3npkVQ34RD",
        "outputId": "00aea9d3-677a-439a-8d25-dab75de5b931"
      },
      "execution_count": 28,
      "outputs": [
        {
          "output_type": "stream",
          "name": "stdout",
          "text": [
            "              date       admin1          admin2     market   latitude  \\\n",
            "0       1994-01-15        Delhi           Delhi      Delhi  28.666667   \n",
            "1       1994-01-15        Delhi           Delhi      Delhi  28.666667   \n",
            "2       1994-01-15        Delhi           Delhi      Delhi  28.666667   \n",
            "3       1994-01-15        Delhi           Delhi      Delhi  28.666667   \n",
            "4       1994-01-15      Gujarat       Ahmadabad  Ahmedabad  23.033333   \n",
            "...            ...          ...             ...        ...        ...   \n",
            "172012  2022-07-15  West Bengal  West Midnapore  Kharagpur  22.339330   \n",
            "172013  2022-07-15  West Bengal  West Midnapore  Kharagpur  22.339330   \n",
            "172014  2022-07-15  West Bengal  West Midnapore  Kharagpur  22.339330   \n",
            "172015  2022-07-15  West Bengal  West Midnapore  Kharagpur  22.339330   \n",
            "172016  2022-07-15  West Bengal  West Midnapore  Kharagpur  22.339330   \n",
            "\n",
            "        longitude               category        commodity unit priceflag  \\\n",
            "0       77.216667     cereals and tubers             Rice   KG    actual   \n",
            "1       77.216667     cereals and tubers            Wheat   KG    actual   \n",
            "2       77.216667     miscellaneous food            Sugar   KG    actual   \n",
            "3       77.216667           oil and fats    Oil (mustard)   KG    actual   \n",
            "4       72.616667     cereals and tubers             Rice   KG    actual   \n",
            "...           ...                    ...              ...  ...       ...   \n",
            "172012  87.226720        pulses and nuts  Lentils (masur)   KG    actual   \n",
            "172013  87.226720        pulses and nuts  Lentils (moong)   KG    actual   \n",
            "172014  87.226720        pulses and nuts   Lentils (urad)   KG    actual   \n",
            "172015  87.226720  vegetables and fruits           Onions   KG    actual   \n",
            "172016  87.226720  vegetables and fruits         Tomatoes   KG    actual   \n",
            "\n",
            "       pricetype currency   price  usdprice  \n",
            "0         Retail      INR    8.00    0.2545  \n",
            "1         Retail      INR    5.00    0.1590  \n",
            "2         Retail      INR   13.50    0.4294  \n",
            "3         Retail      INR   31.00    0.9860  \n",
            "4         Retail      INR    6.80    0.2163  \n",
            "...          ...      ...     ...       ...  \n",
            "172012    Retail      INR  106.33    1.4177  \n",
            "172013    Retail      INR  119.11    1.5881  \n",
            "172014    Retail      INR   95.89    1.2785  \n",
            "172015    Retail      INR   24.89    0.3319  \n",
            "172016    Retail      INR   53.70    0.7160  \n",
            "\n",
            "[172017 rows x 14 columns]\n"
          ]
        }
      ]
    },
    {
      "cell_type": "code",
      "source": [
        "data.info()"
      ],
      "metadata": {
        "colab": {
          "base_uri": "https://localhost:8080/"
        },
        "id": "aIM9Zc3L38CK",
        "outputId": "d4b41d6c-eae1-477f-e71d-8d22474ed5dd"
      },
      "execution_count": 30,
      "outputs": [
        {
          "output_type": "stream",
          "name": "stdout",
          "text": [
            "<class 'pandas.core.frame.DataFrame'>\n",
            "RangeIndex: 172017 entries, 0 to 172016\n",
            "Data columns (total 14 columns):\n",
            " #   Column     Non-Null Count   Dtype  \n",
            "---  ------     --------------   -----  \n",
            " 0   date       172017 non-null  object \n",
            " 1   admin1     171228 non-null  object \n",
            " 2   admin2     171228 non-null  object \n",
            " 3   market     172017 non-null  object \n",
            " 4   latitude   171228 non-null  float64\n",
            " 5   longitude  171228 non-null  float64\n",
            " 6   category   172017 non-null  object \n",
            " 7   commodity  172017 non-null  object \n",
            " 8   unit       172017 non-null  object \n",
            " 9   priceflag  172017 non-null  object \n",
            " 10  pricetype  172017 non-null  object \n",
            " 11  currency   172017 non-null  object \n",
            " 12  price      172017 non-null  float64\n",
            " 13  usdprice   172017 non-null  float64\n",
            "dtypes: float64(4), object(10)\n",
            "memory usage: 18.4+ MB\n"
          ]
        }
      ]
    },
    {
      "cell_type": "code",
      "source": [
        "columna_eliminar = ['priceflag','currency','usdprice']\n",
        "data.drop(columna_eliminar, axis=1, inplace=True)"
      ],
      "metadata": {
        "id": "6fu4dcE2e2NC"
      },
      "execution_count": 31,
      "outputs": []
    },
    {
      "cell_type": "code",
      "source": [
        "data.info()"
      ],
      "metadata": {
        "colab": {
          "base_uri": "https://localhost:8080/"
        },
        "id": "Dl6Oqf6NhArC",
        "outputId": "4bd93dc6-603e-4bec-b8d0-deb3130cf260"
      },
      "execution_count": 32,
      "outputs": [
        {
          "output_type": "stream",
          "name": "stdout",
          "text": [
            "<class 'pandas.core.frame.DataFrame'>\n",
            "RangeIndex: 172017 entries, 0 to 172016\n",
            "Data columns (total 11 columns):\n",
            " #   Column     Non-Null Count   Dtype  \n",
            "---  ------     --------------   -----  \n",
            " 0   date       172017 non-null  object \n",
            " 1   admin1     171228 non-null  object \n",
            " 2   admin2     171228 non-null  object \n",
            " 3   market     172017 non-null  object \n",
            " 4   latitude   171228 non-null  float64\n",
            " 5   longitude  171228 non-null  float64\n",
            " 6   category   172017 non-null  object \n",
            " 7   commodity  172017 non-null  object \n",
            " 8   unit       172017 non-null  object \n",
            " 9   pricetype  172017 non-null  object \n",
            " 10  price      172017 non-null  float64\n",
            "dtypes: float64(3), object(8)\n",
            "memory usage: 14.4+ MB\n"
          ]
        }
      ]
    },
    {
      "cell_type": "code",
      "source": [
        "#variables categoricas\n",
        "columnas_categoricas = data.select_dtypes(include=['object']).columns"
      ],
      "metadata": {
        "id": "Q-Xb29Emi5QU"
      },
      "execution_count": 33,
      "outputs": []
    },
    {
      "cell_type": "code",
      "source": [
        "#Procesamiento de frases o palabras\n",
        "for columna in columnas_categoricas:\n",
        "  le = LabelEncoder()\n",
        "  data[columna] = le.fit_transform(data[columna])"
      ],
      "metadata": {
        "id": "sh52N4EDjGJz"
      },
      "execution_count": 34,
      "outputs": []
    },
    {
      "cell_type": "code",
      "source": [
        "print(data)"
      ],
      "metadata": {
        "colab": {
          "base_uri": "https://localhost:8080/"
        },
        "id": "eIKRXHqVjNhW",
        "outputId": "f48fa302-6a5c-463f-8874-e5c4eedecce3"
      },
      "execution_count": 35,
      "outputs": [
        {
          "output_type": "stream",
          "name": "stdout",
          "text": [
            "        date  admin1  admin2  market   latitude  longitude  category  \\\n",
            "0          0       6      39      42  28.666667  77.216667         0   \n",
            "1          0       6      39      42  28.666667  77.216667         0   \n",
            "2          0       6      39      42  28.666667  77.216667         2   \n",
            "3          0       6      39      42  28.666667  77.216667         3   \n",
            "4          0       8       2       3  23.033333  72.616667         0   \n",
            "...      ...     ...     ...     ...        ...        ...       ...   \n",
            "172012   342      30     156      81  22.339330  87.226720         4   \n",
            "172013   342      30     156      81  22.339330  87.226720         4   \n",
            "172014   342      30     156      81  22.339330  87.226720         4   \n",
            "172015   342      30     156      81  22.339330  87.226720         5   \n",
            "172016   342      30     156      81  22.339330  87.226720         5   \n",
            "\n",
            "        commodity  unit  pricetype   price  \n",
            "0              15     1          0    8.00  \n",
            "1              21     1          0    5.00  \n",
            "2              17     1          0   13.50  \n",
            "3               9     1          0   31.00  \n",
            "4              15     1          0    6.80  \n",
            "...           ...   ...        ...     ...  \n",
            "172012          3     1          0  106.33  \n",
            "172013          4     1          0  119.11  \n",
            "172014          5     1          0   95.89  \n",
            "172015         13     1          0   24.89  \n",
            "172016         20     1          0   53.70  \n",
            "\n",
            "[172017 rows x 11 columns]\n"
          ]
        }
      ]
    },
    {
      "cell_type": "code",
      "source": [
        "data.info()"
      ],
      "metadata": {
        "colab": {
          "base_uri": "https://localhost:8080/"
        },
        "id": "zhjjChtRjAjf",
        "outputId": "a3a31834-693d-4400-9906-ec0dbe40e1e1"
      },
      "execution_count": 36,
      "outputs": [
        {
          "output_type": "stream",
          "name": "stdout",
          "text": [
            "<class 'pandas.core.frame.DataFrame'>\n",
            "RangeIndex: 172017 entries, 0 to 172016\n",
            "Data columns (total 11 columns):\n",
            " #   Column     Non-Null Count   Dtype  \n",
            "---  ------     --------------   -----  \n",
            " 0   date       172017 non-null  int64  \n",
            " 1   admin1     172017 non-null  int64  \n",
            " 2   admin2     172017 non-null  int64  \n",
            " 3   market     172017 non-null  int64  \n",
            " 4   latitude   171228 non-null  float64\n",
            " 5   longitude  171228 non-null  float64\n",
            " 6   category   172017 non-null  int64  \n",
            " 7   commodity  172017 non-null  int64  \n",
            " 8   unit       172017 non-null  int64  \n",
            " 9   pricetype  172017 non-null  int64  \n",
            " 10  price      172017 non-null  float64\n",
            "dtypes: float64(3), int64(8)\n",
            "memory usage: 14.4 MB\n"
          ]
        }
      ]
    },
    {
      "cell_type": "code",
      "source": [
        "#llenar datos vacios\n",
        "columnas_especificas = ['latitude', 'longitude']\n",
        "media_columnas = data[columnas_especificas].mean()\n",
        "data[columnas_especificas] = data[columnas_especificas].fillna(media_columnas)"
      ],
      "metadata": {
        "id": "VDcBZ2f7kx0r"
      },
      "execution_count": 37,
      "outputs": []
    },
    {
      "cell_type": "code",
      "source": [
        "data.info()"
      ],
      "metadata": {
        "colab": {
          "base_uri": "https://localhost:8080/"
        },
        "id": "AEvbXJ5NlFjF",
        "outputId": "f1e3b862-b21b-43b6-bbe2-c68b694ff0c3"
      },
      "execution_count": 38,
      "outputs": [
        {
          "output_type": "stream",
          "name": "stdout",
          "text": [
            "<class 'pandas.core.frame.DataFrame'>\n",
            "RangeIndex: 172017 entries, 0 to 172016\n",
            "Data columns (total 11 columns):\n",
            " #   Column     Non-Null Count   Dtype  \n",
            "---  ------     --------------   -----  \n",
            " 0   date       172017 non-null  int64  \n",
            " 1   admin1     172017 non-null  int64  \n",
            " 2   admin2     172017 non-null  int64  \n",
            " 3   market     172017 non-null  int64  \n",
            " 4   latitude   172017 non-null  float64\n",
            " 5   longitude  172017 non-null  float64\n",
            " 6   category   172017 non-null  int64  \n",
            " 7   commodity  172017 non-null  int64  \n",
            " 8   unit       172017 non-null  int64  \n",
            " 9   pricetype  172017 non-null  int64  \n",
            " 10  price      172017 non-null  float64\n",
            "dtypes: float64(3), int64(8)\n",
            "memory usage: 14.4 MB\n"
          ]
        }
      ]
    },
    {
      "cell_type": "code",
      "source": [
        "# Lectura de Datos\n",
        "X = data.iloc[:, :10]\n",
        "y = data.iloc[:, 10]\n",
        "m = y.size"
      ],
      "metadata": {
        "id": "0dKg9WnblPTv"
      },
      "execution_count": 40,
      "outputs": []
    },
    {
      "cell_type": "code",
      "source": [
        "print(X)\n",
        "print('*'*25)\n",
        "print(y)"
      ],
      "metadata": {
        "colab": {
          "base_uri": "https://localhost:8080/"
        },
        "id": "4IAMcoJplk9W",
        "outputId": "0a28b5e0-4e70-4e0f-8a14-e8d990061213"
      },
      "execution_count": 41,
      "outputs": [
        {
          "output_type": "stream",
          "name": "stdout",
          "text": [
            "        date  admin1  admin2  market   latitude  longitude  category  \\\n",
            "0          0       6      39      42  28.666667  77.216667         0   \n",
            "1          0       6      39      42  28.666667  77.216667         0   \n",
            "2          0       6      39      42  28.666667  77.216667         2   \n",
            "3          0       6      39      42  28.666667  77.216667         3   \n",
            "4          0       8       2       3  23.033333  72.616667         0   \n",
            "...      ...     ...     ...     ...        ...        ...       ...   \n",
            "172012   342      30     156      81  22.339330  87.226720         4   \n",
            "172013   342      30     156      81  22.339330  87.226720         4   \n",
            "172014   342      30     156      81  22.339330  87.226720         4   \n",
            "172015   342      30     156      81  22.339330  87.226720         5   \n",
            "172016   342      30     156      81  22.339330  87.226720         5   \n",
            "\n",
            "        commodity  unit  pricetype  \n",
            "0              15     1          0  \n",
            "1              21     1          0  \n",
            "2              17     1          0  \n",
            "3               9     1          0  \n",
            "4              15     1          0  \n",
            "...           ...   ...        ...  \n",
            "172012          3     1          0  \n",
            "172013          4     1          0  \n",
            "172014          5     1          0  \n",
            "172015         13     1          0  \n",
            "172016         20     1          0  \n",
            "\n",
            "[172017 rows x 10 columns]\n",
            "*************************\n",
            "0           8.00\n",
            "1           5.00\n",
            "2          13.50\n",
            "3          31.00\n",
            "4           6.80\n",
            "           ...  \n",
            "172012    106.33\n",
            "172013    119.11\n",
            "172014     95.89\n",
            "172015     24.89\n",
            "172016     53.70\n",
            "Name: price, Length: 172017, dtype: float64\n"
          ]
        }
      ]
    },
    {
      "cell_type": "code",
      "source": [
        "def  featureNormalize(X):\n",
        "    X_norm = X.copy()\n",
        "    mu = np.zeros(X.shape[1])\n",
        "    sigma = np.zeros(X.shape[1])\n",
        "\n",
        "    mu = np.mean(X, axis = 0)\n",
        "    sigma = np.std(X, axis = 0)\n",
        "    X_norm = (X - mu) / sigma\n",
        "\n",
        "    return X_norm, mu, sigma\n",
        "\n",
        "# Normaliza entre -0.5 y 0.5 (revisar) porque se dan valores negativos y postivos"
      ],
      "metadata": {
        "id": "omfaiX7Klw44"
      },
      "execution_count": 42,
      "outputs": []
    },
    {
      "cell_type": "code",
      "source": [
        "# llama featureNormalize con los datos cargados\n",
        "X_norm, mu, sigma = featureNormalize(X)\n",
        "\n",
        "print(X)\n",
        "print('Media calculada:', mu)\n",
        "print('Desviación estandar calculada:', sigma)\n",
        "print(X_norm)"
      ],
      "metadata": {
        "colab": {
          "base_uri": "https://localhost:8080/"
        },
        "id": "CVrgyojrl0xX",
        "outputId": "94d63b7f-1da6-4871-cd88-6ef55eeac1ad"
      },
      "execution_count": 43,
      "outputs": [
        {
          "output_type": "stream",
          "name": "stdout",
          "text": [
            "        date  admin1  admin2  market   latitude  longitude  category  \\\n",
            "0          0       6      39      42  28.666667  77.216667         0   \n",
            "1          0       6      39      42  28.666667  77.216667         0   \n",
            "2          0       6      39      42  28.666667  77.216667         2   \n",
            "3          0       6      39      42  28.666667  77.216667         3   \n",
            "4          0       8       2       3  23.033333  72.616667         0   \n",
            "...      ...     ...     ...     ...        ...        ...       ...   \n",
            "172012   342      30     156      81  22.339330  87.226720         4   \n",
            "172013   342      30     156      81  22.339330  87.226720         4   \n",
            "172014   342      30     156      81  22.339330  87.226720         4   \n",
            "172015   342      30     156      81  22.339330  87.226720         5   \n",
            "172016   342      30     156      81  22.339330  87.226720         5   \n",
            "\n",
            "        commodity  unit  pricetype  \n",
            "0              15     1          0  \n",
            "1              21     1          0  \n",
            "2              17     1          0  \n",
            "3               9     1          0  \n",
            "4              15     1          0  \n",
            "...           ...   ...        ...  \n",
            "172012          3     1          0  \n",
            "172013          4     1          0  \n",
            "172014          5     1          0  \n",
            "172015         13     1          0  \n",
            "172016         20     1          0  \n",
            "\n",
            "[172017 rows x 10 columns]\n",
            "Media calculada: date         282.697013\n",
            "admin1        16.047832\n",
            "admin2        69.224612\n",
            "market        77.548446\n",
            "latitude      22.422294\n",
            "longitude     80.163114\n",
            "category       2.355750\n",
            "commodity     12.273688\n",
            "unit           1.039351\n",
            "pricetype      0.013237\n",
            "dtype: float64\n",
            "Desviación estandar calculada: date         60.873969\n",
            "admin1        8.723406\n",
            "admin2       44.432985\n",
            "market       45.732717\n",
            "latitude      6.257379\n",
            "longitude     5.657762\n",
            "category      1.639419\n",
            "commodity     6.348511\n",
            "unit          0.253528\n",
            "pricetype     0.114288\n",
            "dtype: float64\n",
            "            date    admin1    admin2    market  latitude  longitude  category  \\\n",
            "0      -4.643972 -1.151824 -0.680229 -0.777309  0.997921  -0.520780 -1.436942   \n",
            "1      -4.643972 -1.151824 -0.680229 -0.777309  0.997921  -0.520780 -1.436942   \n",
            "2      -4.643972 -1.151824 -0.680229 -0.777309  0.997921  -0.520780 -0.216998   \n",
            "3      -4.643972 -1.151824 -0.680229 -0.777309  0.997921  -0.520780  0.392975   \n",
            "4      -4.643972 -0.922556 -1.512944 -1.630090  0.097651  -1.333822 -1.436942   \n",
            "...          ...       ...       ...       ...       ...        ...       ...   \n",
            "172012  0.974193  1.599394  1.952950  0.075472 -0.013259   1.248480  1.002947   \n",
            "172013  0.974193  1.599394  1.952950  0.075472 -0.013259   1.248480  1.002947   \n",
            "172014  0.974193  1.599394  1.952950  0.075472 -0.013259   1.248480  1.002947   \n",
            "172015  0.974193  1.599394  1.952950  0.075472 -0.013259   1.248480  1.612920   \n",
            "172016  0.974193  1.599394  1.952950  0.075472 -0.013259   1.248480  1.612920   \n",
            "\n",
            "        commodity      unit  pricetype  \n",
            "0        0.429441 -0.155213  -0.115822  \n",
            "1        1.374545 -0.155213  -0.115822  \n",
            "2        0.744476 -0.155213  -0.115822  \n",
            "3       -0.515662 -0.155213  -0.115822  \n",
            "4        0.429441 -0.155213  -0.115822  \n",
            "...           ...       ...        ...  \n",
            "172012  -1.460766 -0.155213  -0.115822  \n",
            "172013  -1.303248 -0.155213  -0.115822  \n",
            "172014  -1.145731 -0.155213  -0.115822  \n",
            "172015   0.114407 -0.155213  -0.115822  \n",
            "172016   1.217027 -0.155213  -0.115822  \n",
            "\n",
            "[172017 rows x 10 columns]\n"
          ]
        }
      ]
    },
    {
      "cell_type": "code",
      "source": [
        "# Añade el termino de interseccion a X\n",
        "# (Columna de unos para X0)\n",
        "X = np.concatenate([np.ones((m, 1)), X_norm], axis=1)"
      ],
      "metadata": {
        "id": "7Kq554yul7Xm"
      },
      "execution_count": 44,
      "outputs": []
    },
    {
      "cell_type": "code",
      "source": [
        "print(X)"
      ],
      "metadata": {
        "colab": {
          "base_uri": "https://localhost:8080/"
        },
        "id": "Z-KQQ0OYl_VH",
        "outputId": "96c1e5f9-32ed-43fc-ca0b-ad828334d8dd"
      },
      "execution_count": 45,
      "outputs": [
        {
          "output_type": "stream",
          "name": "stdout",
          "text": [
            "[[ 1.         -4.6439721  -1.15182442 ...  0.42944113 -0.15521273\n",
            "  -0.11582156]\n",
            " [ 1.         -4.6439721  -1.15182442 ...  1.37454456 -0.15521273\n",
            "  -0.11582156]\n",
            " [ 1.         -4.6439721  -1.15182442 ...  0.74447561 -0.15521273\n",
            "  -0.11582156]\n",
            " ...\n",
            " [ 1.          0.97419289  1.59939443 ... -1.14573126 -0.15521273\n",
            "  -0.11582156]\n",
            " [ 1.          0.97419289  1.59939443 ...  0.11440665 -0.15521273\n",
            "  -0.11582156]\n",
            " [ 1.          0.97419289  1.59939443 ...  1.21702732 -0.15521273\n",
            "  -0.11582156]]\n"
          ]
        }
      ]
    },
    {
      "cell_type": "code",
      "source": [
        "def computeCostMulti(X, y, theta):\n",
        "    # Inicializa algunos valores utiles\n",
        "    m = y.shape[0] # numero de ejemplos de entrenamiento\n",
        "\n",
        "    J = 0\n",
        "\n",
        "    h = np.dot(X, theta)\n",
        "\n",
        "    J = (1/(2 * m)) * np.sum(np.square(np.dot(X, theta) - y))\n",
        "\n",
        "    return J"
      ],
      "metadata": {
        "id": "fvLny9VqmCgB"
      },
      "execution_count": 46,
      "outputs": []
    },
    {
      "cell_type": "code",
      "source": [
        "def gradientDescentMulti(X, y, theta, alpha, num_iters):\n",
        "\n",
        "    # Inicializa algunos valores\n",
        "    m = y.shape[0] # numero de ejemplos de entrenamiento\n",
        "\n",
        "    # realiza una copia de theta, el cual será acutalizada por el descenso por el gradiente\n",
        "    theta = theta.copy()\n",
        "\n",
        "    J_history = []\n",
        "\n",
        "    for i in range(num_iters):\n",
        "        theta = theta - (alpha / m) * (np.dot(X, theta) - y).dot(X)\n",
        "        J_history.append(computeCostMulti(X, y, theta))\n",
        "\n",
        "    return theta, J_history"
      ],
      "metadata": {
        "id": "YzwSgk4DmG1q"
      },
      "execution_count": 47,
      "outputs": []
    },
    {
      "cell_type": "code",
      "source": [
        "# Elegir algun valor para alpha (probar varias alternativas)\n",
        "alpha = 0.001 # si es grande se resta más a los thetas, si es menor alfa va cambiando poco a poco\n",
        "#se necesitan muchas iteraciones, si es grande el alfa salta mucho y no llega facilmente\n",
        "# mejores alfas = 0.1, 0.01, 0.001, 0.0001, 0.0005\n",
        "num_iters = 5000\n",
        "\n",
        "# inicializa theta y ejecuta el descenso por el gradiente\n",
        "theta = np.zeros(11)\n",
        "theta, J_history = gradientDescentMulti(X, y, theta, alpha, num_iters)\n",
        "\n",
        "# Grafica la convergencia del costo\n",
        "pyplot.plot(np.arange(len(J_history)), J_history, lw=2)\n",
        "pyplot.xlabel('Numero de iteraciones')\n",
        "pyplot.ylabel('Costo J')\n",
        "\n",
        "# Muestra los resultados del descenso por el gradiente\n",
        "print('theta calculado por el descenso por el gradiente: {:s}'.format(str(theta)))\n",
        "\n",
        "# Estimar el precio para un smart watch con distintas caracteristicas\n",
        "X_array = [1, 0, 6, 39, 42, 28.666667, 77.216667, 0, 15, 1, 0]\n",
        "X_array[1:11] = (X_array[1:11] - mu) / sigma\n",
        "price = np.dot(X_array, theta)   # Se debe cambiar esto\n",
        "\n",
        "print('El valor predecido es (usando el descenso por el gradiente): {:.4f}'.format(price))"
      ],
      "metadata": {
        "colab": {
          "base_uri": "https://localhost:8080/",
          "height": 518
        },
        "id": "bL8DMlEymMIF",
        "outputId": "e7d8761c-616e-4501-dde7-1487c5c157fe"
      },
      "execution_count": 49,
      "outputs": [
        {
          "output_type": "stream",
          "name": "stdout",
          "text": [
            "theta calculado por el descenso por el gradiente: [ 93.58380643  26.99705835   0.60666039  -0.81990175  -1.18142968\n",
            "  -2.82416121  -1.80782034   0.81740962 -18.91390202 -19.57570364\n",
            " 198.09230662]\n",
            "El valor predecido es (usando el descenso por el gradiente): -62.0912\n"
          ]
        },
        {
          "output_type": "display_data",
          "data": {
            "text/plain": [
              "<Figure size 640x480 with 1 Axes>"
            ],
            "image/png": "[encoded data removed]"
          },
          "metadata": {}
        }
      ]
    },
    {
      "cell_type": "code",
      "source": [
        "# Generar un nuevo dataset con la columna movida\n",
        "nuevo_dataset = data.copy()\n",
        "\n",
        "# Guardar el nuevo DataFrame en un archivo CSV\n",
        "nuevo_dataset.to_csv('food_prices.csv', index=False)\n",
        "\n",
        "print(\"Archivo 'food_prices.csv' creado exitosamente.\")"
      ],
      "metadata": {
        "colab": {
          "base_uri": "https://localhost:8080/"
        },
        "id": "7Lvwv7aInt2N",
        "outputId": "62523567-1fe8-468a-d9ba-fe8c5ff5624e"
      },
      "execution_count": 50,
      "outputs": [
        {
          "output_type": "stream",
          "name": "stdout",
          "text": [
            "Archivo 'food_prices.csv' creado exitosamente.\n"
          ]
        }
      ]
    },
    {
      "cell_type": "code",
      "source": [
        "#Carga de dataset\n",
        "data = pd.read_csv('/content/food_prices.csv')"
      ],
      "metadata": {
        "id": "iXn-1Mj5oBIh"
      },
      "execution_count": 51,
      "outputs": []
    },
    {
      "cell_type": "code",
      "source": [
        "print(data)"
      ],
      "metadata": {
        "colab": {
          "base_uri": "https://localhost:8080/"
        },
        "id": "kl6gi-BEoOFY",
        "outputId": "28ed666e-ffca-40b9-94ab-d77e8d3d900a"
      },
      "execution_count": 52,
      "outputs": [
        {
          "output_type": "stream",
          "name": "stdout",
          "text": [
            "        date  admin1  admin2  market   latitude  longitude  category  \\\n",
            "0          0       6      39      42  28.666667  77.216667         0   \n",
            "1          0       6      39      42  28.666667  77.216667         0   \n",
            "2          0       6      39      42  28.666667  77.216667         2   \n",
            "3          0       6      39      42  28.666667  77.216667         3   \n",
            "4          0       8       2       3  23.033333  72.616667         0   \n",
            "...      ...     ...     ...     ...        ...        ...       ...   \n",
            "172012   342      30     156      81  22.339330  87.226720         4   \n",
            "172013   342      30     156      81  22.339330  87.226720         4   \n",
            "172014   342      30     156      81  22.339330  87.226720         4   \n",
            "172015   342      30     156      81  22.339330  87.226720         5   \n",
            "172016   342      30     156      81  22.339330  87.226720         5   \n",
            "\n",
            "        commodity  unit  pricetype   price  \n",
            "0              15     1          0    8.00  \n",
            "1              21     1          0    5.00  \n",
            "2              17     1          0   13.50  \n",
            "3               9     1          0   31.00  \n",
            "4              15     1          0    6.80  \n",
            "...           ...   ...        ...     ...  \n",
            "172012          3     1          0  106.33  \n",
            "172013          4     1          0  119.11  \n",
            "172014          5     1          0   95.89  \n",
            "172015         13     1          0   24.89  \n",
            "172016         20     1          0   53.70  \n",
            "\n",
            "[172017 rows x 11 columns]\n"
          ]
        }
      ]
    },
    {
      "cell_type": "code",
      "source": [
        "# Lectura de Datos\n",
        "X = data.iloc[:, :10]\n",
        "y = data.iloc[:, 10]\n",
        "m = y.size"
      ],
      "metadata": {
        "id": "LNvqW1MkoRY5"
      },
      "execution_count": 54,
      "outputs": []
    },
    {
      "cell_type": "code",
      "source": [
        "print(X)\n",
        "print('*'*25)\n",
        "print(y)"
      ],
      "metadata": {
        "colab": {
          "base_uri": "https://localhost:8080/"
        },
        "id": "OSwaOk3Eogtz",
        "outputId": "1c76732c-10ec-4b42-f6f1-d44081e26b98"
      },
      "execution_count": 55,
      "outputs": [
        {
          "output_type": "stream",
          "name": "stdout",
          "text": [
            "        date  admin1  admin2  market   latitude  longitude  category  \\\n",
            "0          0       6      39      42  28.666667  77.216667         0   \n",
            "1          0       6      39      42  28.666667  77.216667         0   \n",
            "2          0       6      39      42  28.666667  77.216667         2   \n",
            "3          0       6      39      42  28.666667  77.216667         3   \n",
            "4          0       8       2       3  23.033333  72.616667         0   \n",
            "...      ...     ...     ...     ...        ...        ...       ...   \n",
            "172012   342      30     156      81  22.339330  87.226720         4   \n",
            "172013   342      30     156      81  22.339330  87.226720         4   \n",
            "172014   342      30     156      81  22.339330  87.226720         4   \n",
            "172015   342      30     156      81  22.339330  87.226720         5   \n",
            "172016   342      30     156      81  22.339330  87.226720         5   \n",
            "\n",
            "        commodity  unit  pricetype  \n",
            "0              15     1          0  \n",
            "1              21     1          0  \n",
            "2              17     1          0  \n",
            "3               9     1          0  \n",
            "4              15     1          0  \n",
            "...           ...   ...        ...  \n",
            "172012          3     1          0  \n",
            "172013          4     1          0  \n",
            "172014          5     1          0  \n",
            "172015         13     1          0  \n",
            "172016         20     1          0  \n",
            "\n",
            "[172017 rows x 10 columns]\n",
            "*************************\n",
            "0           8.00\n",
            "1           5.00\n",
            "2          13.50\n",
            "3          31.00\n",
            "4           6.80\n",
            "           ...  \n",
            "172012    106.33\n",
            "172013    119.11\n",
            "172014     95.89\n",
            "172015     24.89\n",
            "172016     53.70\n",
            "Name: price, Length: 172017, dtype: float64\n"
          ]
        }
      ]
    },
    {
      "cell_type": "code",
      "source": [
        "X = np.concatenate([np.ones((m, 1)), X], axis=1)"
      ],
      "metadata": {
        "id": "-y6mA0_qomNx"
      },
      "execution_count": 56,
      "outputs": []
    },
    {
      "cell_type": "code",
      "source": [
        "# importante que para usar m>n, evitar datos redundantes, no se normaliza\n",
        "def normalEqn(X, y):\n",
        "\n",
        "    theta = np.zeros(X.shape[1])\n",
        "\n",
        "    theta = np.dot(np.dot(np.linalg.inv(np.dot(X.T,X)),X.T),y)\n",
        "\n",
        "    return theta"
      ],
      "metadata": {
        "id": "gaI1o09gomG8"
      },
      "execution_count": 57,
      "outputs": []
    },
    {
      "cell_type": "code",
      "source": [
        "# Calcula los parametros con la ecuación de la normal\n",
        "theta = normalEqn(X, y);\n",
        "\n",
        "# Muestra los resultados optenidos a partir de la aplicación de la ecuación de la normal\n",
        "print('Theta calculado a partir de la ecuación de la normal: {:s}'.format(str(theta)));\n",
        "\n",
        "# Estimar el precio para una casa de superficie de 1650 sq-ft y tres dormitorios\n",
        "\n",
        "X_array = [1, 0, 6, 39, 42, 28.666667, 77.216667, 0, 15, 1, 0]\n",
        "price = np.dot(X_array, theta)\n",
        "\n",
        "print('Precio predecido para una cada de superficie de 1650 sq-ft y 3 dormitorios (usando la ecuación de la normal): ${:.0f}'.format(price))"
      ],
      "metadata": {
        "colab": {
          "base_uri": "https://localhost:8080/"
        },
        "id": "9pcFg7ETorYL",
        "outputId": "88072023-f05f-4d11-cc8f-882a70cb8e9f"
      },
      "execution_count": 58,
      "outputs": [
        {
          "output_type": "stream",
          "name": "stdout",
          "text": [
            "Theta calculado a partir de la ecuación de la normal: [ 2.30957178e+01  4.57645168e-01  1.60285705e-01 -3.59120718e-02\n",
            " -7.19054506e-03 -4.23386472e-01 -2.30065462e-01  4.46543497e+00\n",
            " -2.09760918e+00 -3.72104195e+01  1.81720649e+03]\n",
            "Precio predecido para una cada de superficie de 1650 sq-ft y 3 dormitorios (usando la ecuación de la normal): $-76\n"
          ]
        }
      ]
    }
  ]
}